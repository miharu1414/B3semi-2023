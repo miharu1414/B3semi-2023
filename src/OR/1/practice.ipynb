{
 "cells": [
  {
   "cell_type": "markdown",
   "metadata": {},
   "source": [
    "## 演習問１"
   ]
  },
  {
   "cell_type": "code",
   "execution_count": 7,
   "metadata": {},
   "outputs": [
    {
     "name": "stdout",
     "output_type": "stream",
     "text": [
      "Gurobi Optimizer version 10.0.3 build v10.0.3rc0 (mac64[arm])\n",
      "\n",
      "CPU model: Apple M2\n",
      "Thread count: 8 physical cores, 8 logical processors, using up to 8 threads\n",
      "\n",
      "Optimize a model with 2 rows, 3 columns and 6 nonzeros\n",
      "Model fingerprint: 0x94d1e9da\n",
      "Variable types: 0 continuous, 3 integer (0 binary)\n",
      "Coefficient statistics:\n",
      "  Matrix range     [2e+00, 6e+00]\n",
      "  Objective range  [4e+00, 9e+00]\n",
      "  Bounds range     [0e+00, 0e+00]\n",
      "  RHS range        [1e+02, 2e+02]\n",
      "Found heuristic solution: objective 252.0000000\n",
      "Presolve time: 0.00s\n",
      "Presolved: 2 rows, 3 columns, 6 nonzeros\n",
      "Variable types: 0 continuous, 3 integer (0 binary)\n",
      "\n",
      "Root relaxation: objective 3.200000e+02, 2 iterations, 0.00 seconds (0.00 work units)\n",
      "\n",
      "    Nodes    |    Current Node    |     Objective Bounds      |     Work\n",
      " Expl Unexpl |  Obj  Depth IntInf | Incumbent    BestBd   Gap | It/Node Time\n",
      "\n",
      "*    0     0               0     320.0000000  320.00000  0.00%     -    0s\n",
      "\n",
      "Explored 1 nodes (2 simplex iterations) in 0.01 seconds (0.00 work units)\n",
      "Thread count was 8 (of 8 available processors)\n",
      "\n",
      "Solution count 2: 320 252 \n",
      "\n",
      "Optimal solution found (tolerance 1.00e-04)\n",
      "Best objective 3.200000000000e+02, best bound 3.200000000000e+02, gap 0.0000%\n",
      "320.0\n",
      "-0.0 40.0 10.0\n"
     ]
    }
   ],
   "source": [
    "from gurobipy import *\n",
    "\n",
    "model = Model(\"section1_2\")\n",
    "x1 = model.addVar(vtype=\"I\", name=\"x1\")\n",
    "x2 = model.addVar(vtype=\"I\", name=\"x2\")\n",
    "x3 = model.addVar(vtype=\"I\", name=\"x3\")\n",
    "\n",
    "model.update()\n",
    "\n",
    "model.addConstr( 6*x1 + 4*x2 + 2*x3 <= 180)\n",
    "model.addConstr( 5*x1 + 3*x2 + 2*x3 <= 140)\n",
    "model.setObjective( 9*x1 + 7* x2 + 4* x3, GRB.MAXIMIZE)\n",
    "model.optimize()\n",
    "print(model.ObjVal)\n",
    "print(x1.X,x2.X,x3.X)"
   ]
  },
  {
   "cell_type": "markdown",
   "metadata": {},
   "source": [
    "## 演習問2"
   ]
  },
  {
   "cell_type": "code",
   "execution_count": 11,
   "metadata": {},
   "outputs": [
    {
     "name": "stdout",
     "output_type": "stream",
     "text": [
      "Gurobi Optimizer version 10.0.3 build v10.0.3rc0 (mac64[arm])\n",
      "\n",
      "CPU model: Apple M2\n",
      "Thread count: 8 physical cores, 8 logical processors, using up to 8 threads\n",
      "\n",
      "Optimize a model with 2 rows, 3 columns and 5 nonzeros\n",
      "Model fingerprint: 0x33d6511e\n",
      "Variable types: 0 continuous, 3 integer (0 binary)\n",
      "Coefficient statistics:\n",
      "  Matrix range     [2e+01, 3e+01]\n",
      "  Objective range  [5e+01, 6e+01]\n",
      "  Bounds range     [0e+00, 0e+00]\n",
      "  RHS range        [6e+02, 5e+03]\n",
      "Found heuristic solution: objective 9420.0000000\n",
      "Presolve time: 0.00s\n",
      "Presolved: 2 rows, 3 columns, 5 nonzeros\n",
      "Variable types: 0 continuous, 3 integer (0 binary)\n",
      "Found heuristic solution: objective 9415.0000000\n",
      "\n",
      "Root relaxation: objective 9.103409e+03, 2 iterations, 0.00 seconds (0.00 work units)\n",
      "\n",
      "    Nodes    |    Current Node    |     Objective Bounds      |     Work\n",
      " Expl Unexpl |  Obj  Depth IntInf | Incumbent    BestBd   Gap | It/Node Time\n",
      "\n",
      "     0     0 9103.40909    0    2 9415.00000 9103.40909  3.31%     -    0s\n",
      "H    0     0                    9141.0000000 9103.40909  0.41%     -    0s\n",
      "H    0     0                    9136.0000000 9103.40909  0.36%     -    0s\n",
      "H    0     0                    9131.0000000 9103.40909  0.30%     -    0s\n",
      "     0     0 9105.00000    0    1 9131.00000 9105.00000  0.28%     -    0s\n",
      "H    0     0                    9123.0000000 9105.00000  0.20%     -    0s\n",
      "     0     0 9106.81818    0    2 9123.00000 9106.81818  0.18%     -    0s\n",
      "H    0     0                    9118.0000000 9106.81818  0.12%     -    0s\n",
      "H    0     0                    9110.0000000 9106.81818  0.03%     -    0s\n",
      "\n",
      "Cutting planes:\n",
      "  MIR: 2\n",
      "  StrongCG: 1\n",
      "\n",
      "Explored 1 nodes (4 simplex iterations) in 0.02 seconds (0.00 work units)\n",
      "Thread count was 8 (of 8 available processors)\n",
      "\n",
      "Solution count 8: 9110 9118 9123 ... 9420\n",
      "\n",
      "Optimal solution found (tolerance 1.00e-04)\n",
      "Best objective 9.110000000000e+03, best bound 9.110000000000e+03, gap 0.0000%\n",
      "9110.0\n",
      "38.0 -0.0 117.0\n"
     ]
    }
   ],
   "source": [
    "from gurobipy import *\n",
    "\n",
    "model = Model(\"section1_2\")\n",
    "x1 = model.addVar(vtype=\"I\", name=\"x1\")\n",
    "x2 = model.addVar(vtype=\"I\", name=\"x2\")\n",
    "x3 = model.addVar(vtype=\"I\", name=\"x3\")\n",
    "\n",
    "model.update()\n",
    "\n",
    "model.addConstr( 30*x1 + 20*x2 + 33*x3 >= 5000)\n",
    "model.addConstr( 20*x1 + 22*x2 + 0*x3 >= 550)\n",
    "model.setObjective( 55*x1 + 48* x2 + 60 * x3, GRB.MINIMIZE)\n",
    "model.optimize()\n",
    "print(model.ObjVal)\n",
    "print(x1.X,x2.X,x3.X)"
   ]
  },
  {
   "cell_type": "markdown",
   "metadata": {},
   "source": [
    "## 演習問3"
   ]
  },
  {
   "cell_type": "code",
   "execution_count": 13,
   "metadata": {},
   "outputs": [
    {
     "name": "stdout",
     "output_type": "stream",
     "text": [
      "Gurobi Optimizer version 10.0.3 build v10.0.3rc0 (mac64[arm])\n",
      "\n",
      "CPU model: Apple M2\n",
      "Thread count: 8 physical cores, 8 logical processors, using up to 8 threads\n",
      "\n",
      "Optimize a model with 2 rows, 5 columns and 10 nonzeros\n",
      "Model fingerprint: 0xb91e38b1\n",
      "Variable types: 0 continuous, 5 integer (0 binary)\n",
      "Coefficient statistics:\n",
      "  Matrix range     [1e+00, 5e+02]\n",
      "  Objective range  [1e+00, 1e+05]\n",
      "  Bounds range     [0e+00, 0e+00]\n",
      "  RHS range        [1e+02, 1e+04]\n",
      "Presolve time: 0.00s\n",
      "Presolved: 2 rows, 5 columns, 8 nonzeros\n",
      "Variable types: 0 continuous, 5 integer (0 binary)\n",
      "Found heuristic solution: objective 6700033.0000\n",
      "\n",
      "Root relaxation: objective 4.000960e+05, 2 iterations, 0.00 seconds (0.00 work units)\n",
      "\n",
      "    Nodes    |    Current Node    |     Objective Bounds      |     Work\n",
      " Expl Unexpl |  Obj  Depth IntInf | Incumbent    BestBd   Gap | It/Node Time\n",
      "\n",
      "     0     0 400096.000    0    2 6700033.00 400096.000  94.0%     -    0s\n",
      "H    0     0                    3800062.0000 400096.000  89.5%     -    0s\n",
      "H    0     0                    2700073.0000 478006.867  82.3%     -    0s\n",
      "     0     0 700093.000    0    3 2700073.00 700093.000  74.1%     -    0s\n",
      "H    0     0                    1500085.0000 700093.000  53.3%     -    0s\n",
      "\n",
      "Cutting planes:\n",
      "  Gomory: 2\n",
      "  MIR: 3\n",
      "\n",
      "Explored 1 nodes (5 simplex iterations) in 0.01 seconds (0.00 work units)\n",
      "Thread count was 8 (of 8 available processors)\n",
      "\n",
      "Solution count 4: 1.50008e+06 2.70007e+06 3.80006e+06 6.70003e+06 \n",
      "\n",
      "Optimal solution found (tolerance 1.00e-04)\n",
      "Best objective 1.500085000000e+06, best bound 1.500085000000e+06, gap 0.0000%\n",
      "1500085.0\n",
      "60.0 6.0 6.0 3.0 25.0\n"
     ]
    }
   ],
   "source": [
    "from gurobipy import *\n",
    "\n",
    "model = Model(\"section1_2\")\n",
    "x1 = model.addVar(vtype=\"I\", name=\"x1\")\n",
    "x2 = model.addVar(vtype=\"I\", name=\"x2\")\n",
    "x3 = model.addVar(vtype=\"I\", name=\"x3\")\n",
    "x4 = model.addVar(vtype=\"I\", name=\"x4\")\n",
    "x5 = model.addVar(vtype=\"I\", name=\"x5\")\n",
    "\n",
    "model.update()\n",
    "\n",
    "model.addConstr( x1 + x2 + x3 + x4 + x5 == 100)\n",
    "model.addConstr( 1*x1 + 10* x2 + 50 * x3 + 100 * x4 + 500 * x5 == 13220)\n",
    "model.setObjective( x1 + 1000000 * x2 + 1000000 * x3 + 1000000 * x4 +  x5, GRB.MINIMIZE)\n",
    "model.optimize()\n",
    "print(model.ObjVal)\n",
    "print(x1.X,x2.X,x3.X, x4.X, x5.X)"
   ]
  },
  {
   "cell_type": "code",
   "execution_count": null,
   "metadata": {},
   "outputs": [],
   "source": []
  }
 ],
 "metadata": {
  "kernelspec": {
   "display_name": "base",
   "language": "python",
   "name": "python3"
  },
  "language_info": {
   "codemirror_mode": {
    "name": "ipython",
    "version": 3
   },
   "file_extension": ".py",
   "mimetype": "text/x-python",
   "name": "python",
   "nbconvert_exporter": "python",
   "pygments_lexer": "ipython3",
   "version": "3.11.5"
  }
 },
 "nbformat": 4,
 "nbformat_minor": 2
}

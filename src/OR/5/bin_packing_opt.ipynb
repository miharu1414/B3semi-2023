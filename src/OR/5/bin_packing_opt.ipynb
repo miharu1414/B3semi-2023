{
 "cells": [
  {
   "cell_type": "markdown",
   "metadata": {},
   "source": [
    "## 箱詰め問題"
   ]
  },
  {
   "cell_type": "code",
   "execution_count": 34,
   "metadata": {},
   "outputs": [],
   "source": [
    "from gurobipy import *"
   ]
  },
  {
   "cell_type": "markdown",
   "metadata": {},
   "source": [
    "### 問題状況の設定\n",
    "-  箱詰め問題における問題状況を設定\n",
    "    - ビンのサイズ\n",
    "    - アイテムのサイズの種類とその数"
   ]
  },
  {
   "cell_type": "code",
   "execution_count": 35,
   "metadata": {},
   "outputs": [],
   "source": [
    "def CuttingStockExample():\n",
    "    \"\"\"問題状況を設定\"\"\"\n",
    "    B = 9   #ビンのサイズを定義\n",
    "    w = [2,3,4,5,6,7,8]   #アイテムのサイズの種類を設定\n",
    "\n",
    "    q = [4,2,6,6,2,2,2]   #各サイズのアイテム数を設定\n",
    "    s = []\n",
    "    for j in range(len(w)):\n",
    "        for i in range(q[j]):\n",
    "            s.append(w[j])\n",
    "    return s, B"
   ]
  },
  {
   "cell_type": "markdown",
   "metadata": {},
   "source": [
    "### FFD: First Fit Decreasing\n",
    "    - 大きいものから箱に詰めていく貪欲法で上限数Uを求める。\n",
    "    - ヒューリスティックな解法"
   ]
  },
  {
   "cell_type": "code",
   "execution_count": 44,
   "metadata": {},
   "outputs": [],
   "source": [
    "def FFD(s, B):\n",
    "    \"\"\"ビンの上限数Uを求める\"\"\"\n",
    "    remain = [B]\n",
    "    sol = [[]]\n",
    "    for item in sorted(s, reverse=True):\n",
    "        for (j, free) in enumerate(remain):\n",
    "            if free >= item:\n",
    "                remain[j] -= item\n",
    "                sol[j].append(item)\n",
    "                break\n",
    "        else:\n",
    "            sol.append([item])\n",
    "            remain.append(B-item)\n",
    "    return sol"
   ]
  },
  {
   "cell_type": "markdown",
   "metadata": {},
   "source": [
    "### モデルを定義"
   ]
  },
  {
   "cell_type": "code",
   "execution_count": 126,
   "metadata": {},
   "outputs": [],
   "source": [
    "def bpp(s, B):\n",
    "    # N：アイテム数　U：ビンの上限数\n",
    "    N = len(s)\n",
    "    U = len(FFD(s, B))\n",
    "    model = Model(\"Bin-Packing-Problem\")\n",
    "\n",
    "    # 変数を定義\n",
    "    x, y = {}, {}\n",
    "    for i in range(N):\n",
    "        for j in range(U):\n",
    "            x[i,j] = model.addVar(vtype=\"B\")\n",
    "    for j in range(U):\n",
    "        y[j] = model.addVar(vtype=\"B\")\n",
    "    model.update()\n",
    "\n",
    "    # 制約条件を設定\n",
    "    for i in range(N):\n",
    "        model.addConstr(quicksum(x[i,j] for j in range(U)) == 1)\n",
    "    for j in range(U):\n",
    "        model.addConstr(quicksum(s[i]*x[i,j] for i in range(N)) <= B*y[j])\n",
    "    for j in range(U):\n",
    "        for i in range(N):\n",
    "            model.addConstr(x[i,j] <= y[j])\n",
    "    model.setObjective(quicksum(y[j] for j in range(U)), GRB.MINIMIZE)\n",
    "    model.update()\n",
    "    model.__data = x, y\n",
    "    return model,x,y"
   ]
  },
  {
   "cell_type": "markdown",
   "metadata": {},
   "source": [
    "### 結果を表示する関数を定義"
   ]
  },
  {
   "cell_type": "code",
   "execution_count": 135,
   "metadata": {},
   "outputs": [],
   "source": [
    "def ShowResult(s, B, X):\n",
    "    pos = {}\n",
    "    for (i,j) in X.keys():\n",
    "        if X[i,j].X == 1:\n",
    "            if j not in pos:\n",
    "                pos[j] = [i]\n",
    "            else:\n",
    "                pos[j].append(i) \n",
    "    sorted_pos = sorted(pos.items())\n",
    "    for key,items in sorted_pos:\n",
    "        remain = B\n",
    "        print(f\"ビン{str(key+1).ljust(2,' ')}の中身：\",end=\"\")\n",
    "        for i, item in enumerate(items):\n",
    "            remain -= s[item]\n",
    "            print(f\"アイテム{str(item+1).ljust(3,' ')}\",end=\"\")\n",
    "        print(f\"空き容量：{remain}\")\n",
    "            "
   ]
  },
  {
   "cell_type": "markdown",
   "metadata": {},
   "source": [
    "### ビンパッキング問題を解く"
   ]
  },
  {
   "cell_type": "code",
   "execution_count": 136,
   "metadata": {},
   "outputs": [
    {
     "name": "stdout",
     "output_type": "stream",
     "text": [
      "Gurobi Optimizer version 10.0.3 build v10.0.3rc0 (mac64[arm])\n",
      "\n",
      "CPU model: Apple M2\n",
      "Thread count: 8 physical cores, 8 logical processors, using up to 8 threads\n",
      "\n",
      "Optimize a model with 349 rows, 325 columns and 1261 nonzeros\n",
      "Model fingerprint: 0x76ad1019\n",
      "Variable types: 0 continuous, 325 integer (325 binary)\n",
      "Coefficient statistics:\n",
      "  Matrix range     [1e+00, 9e+00]\n",
      "  Objective range  [1e+00, 1e+00]\n",
      "  Bounds range     [1e+00, 1e+00]\n",
      "  RHS range        [1e+00, 1e+00]\n",
      "Found heuristic solution: objective 13.0000000\n",
      "Presolve removed 143 rows and 0 columns\n",
      "Presolve time: 0.00s\n",
      "Presolved: 206 rows, 325 columns, 1794 nonzeros\n",
      "Variable types: 0 continuous, 325 integer (325 binary)\n",
      "\n",
      "Root relaxation: cutoff, 207 iterations, 0.00 seconds (0.00 work units)\n",
      "\n",
      "    Nodes    |    Current Node    |     Objective Bounds      |     Work\n",
      " Expl Unexpl |  Obj  Depth IntInf | Incumbent    BestBd   Gap | It/Node Time\n",
      "\n",
      "     0     0     cutoff    0        13.00000   13.00000  0.00%     -    0s\n",
      "\n",
      "Explored 1 nodes (207 simplex iterations) in 0.04 seconds (0.01 work units)\n",
      "Thread count was 8 (of 8 available processors)\n",
      "\n",
      "Solution count 1: 13 \n",
      "\n",
      "Optimal solution found (tolerance 1.00e-04)\n",
      "Best objective 1.300000000000e+01, best bound 1.300000000000e+01, gap 0.0000%\n"
     ]
    }
   ],
   "source": [
    "if __name__ == \"__main__\":\n",
    "    s, B = CuttingStockExample()\n",
    "    model,x,y = bpp(s,B)\n",
    "    model.optimize()"
   ]
  },
  {
   "cell_type": "code",
   "execution_count": 137,
   "metadata": {},
   "outputs": [
    {
     "name": "stdout",
     "output_type": "stream",
     "text": [
      "ビン1 の中身：アイテム24 空き容量：1\n",
      "ビン2 の中身：アイテム8  アイテム17 空き容量：0\n",
      "ビン3 の中身：アイテム3  アイテム21 空き容量：0\n",
      "ビン4 の中身：アイテム7  アイテム16 空き容量：0\n",
      "ビン5 の中身：アイテム12 アイテム15 空き容量：0\n",
      "ビン6 の中身：アイテム2  アイテム19 空き容量：1\n",
      "ビン7 の中身：アイテム1  アイテム18 空き容量：2\n",
      "ビン8 の中身：アイテム9  アイテム10 空き容量：1\n",
      "ビン9 の中身：アイテム5  アイテム13 空き容量：1\n",
      "ビン10の中身：アイテム6  アイテム20 空き容量：0\n",
      "ビン11の中身：アイテム4  アイテム22 空き容量：0\n",
      "ビン12の中身：アイテム23 空き容量：1\n",
      "ビン13の中身：アイテム11 アイテム14 空き容量：0\n"
     ]
    }
   ],
   "source": [
    "ShowResult(s,B,x)\n",
    "    "
   ]
  },
  {
   "cell_type": "code",
   "execution_count": null,
   "metadata": {},
   "outputs": [],
   "source": []
  }
 ],
 "metadata": {
  "kernelspec": {
   "display_name": "base",
   "language": "python",
   "name": "python3"
  },
  "language_info": {
   "codemirror_mode": {
    "name": "ipython",
    "version": 3
   },
   "file_extension": ".py",
   "mimetype": "text/x-python",
   "name": "python",
   "nbconvert_exporter": "python",
   "pygments_lexer": "ipython3",
   "version": "3.11.5"
  }
 },
 "nbformat": 4,
 "nbformat_minor": 2
}

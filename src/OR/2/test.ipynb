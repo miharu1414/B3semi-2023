{
 "cells": [
  {
   "cell_type": "code",
   "execution_count": 1,
   "metadata": {},
   "outputs": [],
   "source": [
    "from gurobipy import *\n",
    "\n",
    "produce = {1:[2,4], 2:[1,2,3], 3:[2,3,4]}\n",
    "\n",
    "d = {\n",
    "    (1,1):80, (1,2):85, (1,3):300, (1,4):6,\n",
    "    (2,1):270, (2,2):160, (2,3):400, (2,4):7,\n",
    "    (3,1):250, (3,2):130, (3,3):350, (3,4):4,\n",
    "    (4,1):160, (4,2):60, (4,3):200, (4,4):3,\n",
    "    (5,1):180, (5,2):40, (5,3):150, (5,4):5,\n",
    "}\n",
    "\n",
    "I = set([i for (i, k) in d])\n",
    "\n",
    "J, M = multidict({1:3000, 2:3000, 3:3000})\n",
    "K, weight = multidict({1:5, 2:2, 3:3, 4:4})\n",
    "\n",
    "cost = {\n",
    "    (1,1): 4, (1,2): 6, (1,3):9,\n",
    "    (2,1): 5, (2,2): 4, (2,3):7,\n",
    "    (3,1): 6, (3,2): 3, (3,3):4,\n",
    "    (4,1): 8, (4,2): 5, (4,3):3,\n",
    "    (5,1): 10, (5,2): 8, (5,3):4,\n",
    "}"
   ]
  },
  {
   "cell_type": "code",
   "execution_count": 2,
   "metadata": {},
   "outputs": [],
   "source": [
    "c = {}\n",
    "for i in I:\n",
    "    for j in J:\n",
    "        for k in produce[j]:\n",
    "            c[i, j, k] = cost[i, j] * weight[k]"
   ]
  },
  {
   "cell_type": "code",
   "execution_count": 3,
   "metadata": {},
   "outputs": [
    {
     "name": "stdout",
     "output_type": "stream",
     "text": [
      "Set parameter Username\n",
      "Academic license - for non-commercial use only - expires 2024-10-15\n"
     ]
    }
   ],
   "source": [
    "model = Model(\"transportation\")\n",
    "x = {}\n",
    "for i,j,k in c:\n",
    "    x[i,j,k] = model.addVar(vtype=\"C\")\n",
    "model.update()"
   ]
  },
  {
   "cell_type": "code",
   "execution_count": 4,
   "metadata": {},
   "outputs": [],
   "source": [
    "for i in I:\n",
    "    for k in K:\n",
    "        model.addConstr(quicksum(x[i,j,k] for j in J if (i,j,k) in x) == d[i,k])\n"
   ]
  },
  {
   "cell_type": "code",
   "execution_count": 5,
   "metadata": {},
   "outputs": [],
   "source": [
    "for j in J:\n",
    "    model.addConstr(quicksum(x[i,j,k] for (i,j2,k) in x if j2 == j) <= M[j])\n"
   ]
  },
  {
   "cell_type": "code",
   "execution_count": 6,
   "metadata": {},
   "outputs": [
    {
     "name": "stdout",
     "output_type": "stream",
     "text": [
      "Gurobi Optimizer version 10.0.3 build v10.0.3rc0 (mac64[arm])\n",
      "\n",
      "CPU model: Apple M2\n",
      "Thread count: 8 physical cores, 8 logical processors, using up to 8 threads\n",
      "\n",
      "Optimize a model with 23 rows, 40 columns and 80 nonzeros\n",
      "Model fingerprint: 0x77b0a6c4\n",
      "Coefficient statistics:\n",
      "  Matrix range     [1e+00, 1e+00]\n",
      "  Objective range  [6e+00, 4e+01]\n",
      "  Bounds range     [0e+00, 0e+00]\n",
      "  RHS range        [3e+00, 3e+03]\n",
      "Presolve removed 23 rows and 40 columns\n",
      "Presolve time: 0.01s\n",
      "Presolve: All rows and columns removed\n",
      "Iteration    Objective       Primal Inf.    Dual Inf.      Time\n",
      "       0    4.3536000e+04   0.000000e+00   0.000000e+00      0s\n",
      "\n",
      "Solved in 0 iterations and 0.01 seconds (0.00 work units)\n",
      "Optimal objective  4.353600000e+04\n",
      "Optimal value: 43536.0\n"
     ]
    }
   ],
   "source": [
    "model.setObjective(quicksum(c[i,j,k]*x[i,j,k] for (i,j,k) in x), GRB.MINIMIZE)\n",
    "\n",
    "model.optimize()\n",
    "print(\"Optimal value:\", model.ObjVal)\n"
   ]
  },
  {
   "cell_type": "code",
   "execution_count": null,
   "metadata": {},
   "outputs": [],
   "source": []
  },
  {
   "cell_type": "code",
   "execution_count": 5,
   "metadata": {},
   "outputs": [
    {
     "name": "stdout",
     "output_type": "stream",
     "text": [
      "{1: 0.1, 2: 0.0, 3: 0.45}\n"
     ]
    }
   ],
   "source": [
    "from gurobipy import *\n",
    "a = {\n",
    "    (1,1):0.25, (1,2):0.15, (1,3):0.3,\n",
    "    (2,1):0.3, (2,2):0.3, (2,3):0.1,\n",
    "    (3,1):0.15, (3,2):0.65, (3,3):0.05,\n",
    "    (4,1):0.1, (4,2):0.05, (4,3):0.85,\n",
    "}\n",
    "I, p = multidict({1:5, 2:6, 3:8, 4:20})\n",
    "K, LB, UB = multidict({1:[0.1,0.2], 2:[0.0,0.35], 3:[0.45,1.0]})"
   ]
  },
  {
   "cell_type": "code",
   "execution_count": 20,
   "metadata": {},
   "outputs": [
    {
     "name": "stdout",
     "output_type": "stream",
     "text": [
      "Gurobi Optimizer version 10.0.3 build v10.0.3rc0 (mac64[arm])\n",
      "\n",
      "CPU model: Apple M2\n",
      "Thread count: 8 physical cores, 8 logical processors, using up to 8 threads\n",
      "\n",
      "Optimize a model with 7 rows, 4 columns and 28 nonzeros\n",
      "Model fingerprint: 0xd2a78047\n",
      "Coefficient statistics:\n",
      "  Matrix range     [5e-02, 1e+00]\n",
      "  Objective range  [5e+00, 2e+01]\n",
      "  Bounds range     [0e+00, 0e+00]\n",
      "  RHS range        [1e-01, 1e+00]\n",
      "Presolve removed 3 rows and 0 columns\n",
      "Presolve time: 0.00s\n",
      "Presolved: 4 rows, 6 columns, 18 nonzeros\n",
      "\n",
      "Iteration    Objective       Primal Inf.    Dual Inf.      Time\n",
      "       0    7.0372443e+00   7.173123e-01   0.000000e+00      0s\n",
      "       2    9.6216216e+00   0.000000e+00   0.000000e+00      0s\n",
      "\n",
      "Solved in 2 iterations and 0.01 seconds (0.00 work units)\n",
      "Optimal objective  9.621621622e+00\n",
      "1 0.6486486486486487\n",
      "2 0.0\n",
      "3 0.05405405405405392\n",
      "4 0.29729729729729737\n"
     ]
    }
   ],
   "source": [
    "model = Model(\"mix\")\n",
    "x = {}\n",
    "for i in I:\n",
    "    x[i]=model.addVar()\n",
    "model.update()\n",
    "model.addConstr(quicksum(x[i] for i in I) == 1)\n",
    "for k in K:\n",
    "    model.addConstr(quicksum(a[i, k]*x[i] for i in I) <= UB[k])\n",
    "    model.addConstr(quicksum(a[i, k]*x[i] for i in I) >= LB[k])\n",
    "model.setObjective(quicksum(p[i]*x[i] for i in I), GRB.MINIMIZE)\n",
    "model.optimize()\n",
    "for i in I:\n",
    "    print(i, x[i].X)\n"
   ]
  },
  {
   "cell_type": "code",
   "execution_count": null,
   "metadata": {},
   "outputs": [],
   "source": []
  }
 ],
 "metadata": {
  "kernelspec": {
   "display_name": "base",
   "language": "python",
   "name": "python3"
  },
  "language_info": {
   "codemirror_mode": {
    "name": "ipython",
    "version": 3
   },
   "file_extension": ".py",
   "mimetype": "text/x-python",
   "name": "python",
   "nbconvert_exporter": "python",
   "pygments_lexer": "ipython3",
   "version": "3.11.5"
  }
 },
 "nbformat": 4,
 "nbformat_minor": 2
}

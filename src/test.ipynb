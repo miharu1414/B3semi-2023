{
 "cells": [
  {
   "cell_type": "code",
   "execution_count": 1,
   "id": "70b9ff2d-662c-46df-9047-bbf2a2f77036",
   "metadata": {},
   "outputs": [
    {
     "name": "stdout",
     "output_type": "stream",
     "text": [
      "60000\n",
      "6.452965196290846\n"
     ]
    }
   ],
   "source": [
    "from math import log2\n",
    "\n",
    "fname = \"ACL_OUT.dat\"\n",
    "f = open(fname, \"r\")\n",
    "alldata = f.readlines()\n",
    "f.close()\n",
    "n = len(alldata) * 3\n",
    "print(n)\n",
    "hist = [0] * 4096\n",
    "for i in alldata:\n",
    "    d = i.split()\n",
    "    for j in range(1,4):\n",
    "        v = int(d[j]) + 2048\n",
    "        hist[v] = hist[v] + 1\n",
    "ent = 0.0\n",
    "for i in range(4096):\n",
    "    if hist[i] > 0:\n",
    "        p = hist[i]/n\n",
    "        ent = ent - p * log2(p)\n",
    "print(ent)"
   ]
  },
  {
   "cell_type": "code",
   "execution_count": null,
   "id": "aa232f42",
   "metadata": {},
   "outputs": [],
   "source": []
  }
 ],
 "metadata": {
  "kernelspec": {
   "display_name": "Python 3 (ipykernel)",
   "language": "python",
   "name": "python3"
  },
  "language_info": {
   "codemirror_mode": {
    "name": "ipython",
    "version": 3
   },
   "file_extension": ".py",
   "mimetype": "text/x-python",
   "name": "python",
   "nbconvert_exporter": "python",
   "pygments_lexer": "ipython3",
   "version": "3.11.5"
  }
 },
 "nbformat": 4,
 "nbformat_minor": 5
}

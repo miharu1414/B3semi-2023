{
 "cells": [
  {
   "cell_type": "markdown",
   "metadata": {
    "colab_type": "text",
    "id": "IiTv36FRYXvn"
   },
   "source": [
    "# 1. はじめに\n",
    "\n",
    "このファイルは**Jupyter Notebook, Jupyter Lab**から開いていると想定しています。\n",
    "ファイルの管理やらライブラリの管理やらが面倒なので、実際にこれを使って勉強するときは自分のPCに落としてあるJupyter NotebookやLabからの実行がいいかと思われます。\n",
    "\n",
    "このファイルの使い方ですが、基本的にはゼミ内で**各自，演習する形**で進めていくことを想定しています。\n",
    "得意な人には爆速で進むかもですし、苦手な人はあんまり進まないかもしれません。\n",
    "その辺はうまいことバランスとりながら調整してやっていきましょう。\n",
    "\n",
    "またこのゼミは**全７回**を想定しています。その後はゼミでお勉強したことを活かして，少し課題にチャレンジしてもらう予定です．  \n",
    "\n",
    "さてこのファイルが開けているということはおそらくJupyter labから見ていると思われるのですが、こいつは一体なんなんだ…？て感じですよね。そうですよね。ということで簡単に説明しておきます。\n",
    "\n",
    "***"
   ]
  },
  {
   "cell_type": "markdown",
   "metadata": {
    "colab_type": "text",
    "id": "dygoBrhrdJV8"
   },
   "source": [
    "## 1-1. Jupyter Notebookってなんだ\n",
    "\n",
    "> Jupyter Notebookは、ノートブックと呼ばれるファイルにプログラムや説明の文章、実行結果などをまとめて管理できる、データ分析用のツールです。「ジュパイター ノートブック」または「ジュピター ノートブック」と読みます。\n",
    ">Jupyter Notebookはオープンソースで公開されており、個人／商用問わず、誰でも無料で利用することができます。またブラウザで動作するため、いろいろなOSから利用でき、チームメンバーとのプログラムの共有も用意です。\n",
    "\n",
    "\n",
    "らしいです。（引用元：https://techacademy.jp/magazine/17430）\n",
    "\n",
    "他の言語も使えるのですが、Pythonというプログラミング言語や、こいつの拡張機能を上手いことブラウザを経由して表示してくれるツールです。Python使うならとりあえずJupyterでいいんじゃない？とかいうぐらいには、使ってる人は多いです。（他のツールももちろんありますが。）\n",
    "よくあるデータ分析のコンペとか、その他Pythonのフリーで使える学習教材なんかはこのようなファイル形式での提出であったり、配布されたりってことがあります。\n",
    "\n",
    "ということで、このファイルのようにテキストデータや実際のコードをまとめてみんなに配ることができるという汎用性も加味して、今年のPゼミはこの形を取ろうと思います。よろぴこ。\n",
    "\n",
    "***"
   ]
  },
  {
   "cell_type": "markdown",
   "metadata": {
    "colab_type": "text",
    "id": "3R2F3Qbxc7Pw"
   },
   "source": [
    "## 1-2. 具体的な使い方\n",
    "ググってください！！！！！！まとめるのダリィ！！！！\n",
    "\n",
    "とはいうものの丸投げもあれなので、ざっくりとだけまとめます。\n",
    "仕組みはエクセルみたいな感じの**セルの組み合わせ**でできています。\n",
    "\n",
    "このテキストも、テキストセルの中に**\"Markdown記法\"**という書き方で色々書いてる感じです。（簡単で便利なので気になる人は調べて見てネ。）\n",
    "そんでプログラミングのコードはどんな感じなの？てことになるわけです。下のコードが書いてあるセルをクリックして、Shiftキー + Enterキーを押して見ましょう。  \n",
    "\n",
    "ちなみにJupyterにはもっと便利に使えるショートカットがいくつかありますが，ググってみましょう  \n",
    "使えるようになると，色々な操作が爆速で進みます．  \n",
    "参考URL\n",
    "https://qiita.com/forusufia/items/bea3f6fd6160cd2f5843\n"
   ]
  },
  {
   "cell_type": "code",
   "execution_count": 1,
   "metadata": {
    "colab": {},
    "colab_type": "code",
    "id": "ytRPA4C4YN-t"
   },
   "outputs": [
    {
     "name": "stdout",
     "output_type": "stream",
     "text": [
      "Hello HasuikeLab!\n"
     ]
    }
   ],
   "source": [
    "print(\"Hello HasuikeLab!\")"
   ]
  },
  {
   "cell_type": "markdown",
   "metadata": {
    "colab_type": "text",
    "id": "xOrrS17tecaf"
   },
   "source": [
    "どうでしょうか、なんか表示されましたでしょいか。まあこんな感じです。簡単ですね。\n",
    "実行するにはShiftキー + Enterキーです。\n",
    "\n",
    "さて、次は下のセルそクリックしたのちに、Shiftキー + Enterキーを押して見てください。"
   ]
  },
  {
   "cell_type": "code",
   "execution_count": 2,
   "metadata": {
    "colab": {},
    "colab_type": "code",
    "id": "MUxC5_hSfF3J"
   },
   "outputs": [
    {
     "name": "stdout",
     "output_type": "stream",
     "text": [
      "Run and Insert New Cell.\n"
     ]
    }
   ],
   "source": [
    "print(\"Run and Insert New Cell.\")"
   ]
  },
  {
   "cell_type": "markdown",
   "metadata": {
    "colab_type": "text",
    "id": "jL2th4r9fGLO"
   },
   "source": [
    "Shift押しながらのEnterだと実行後次のセルが選択されるって感じです。簡単ですね。（ちなみに下のセルになにもないときに実行すると新規せるが追加されます。）  \n",
    "てかもうこれだけ分かればなんとかなります。あとはセル選択したまんま上の方のメニューとか見たらDelete Cellとかあるはずです。\n",
    "\n",
    "詳細な使い方は調べましょう。プログラミング学習で大事なことは、**\"疑問に思ったことを自分で調べる癖をつける\"**ことです。  \n",
    "Pythonは特に機能が死ぬほど多い(ぼくも30%くらいしか知らない)ので，Googleで調べる能力はめっちゃ重要です．\n",
    "\n",
    "***\n",
    "\n",
    "一応Jupyterのヘルプの見方だけ。\n",
    "\n",
    "キーボード左上にあるEscキーを押す→hキーを押す。(Colabの場合はCtrl(Command) + m + h)\n",
    "\n",
    "これでなんかぽわ〜んって出てくるはずです。ここ見て分からなかったら調べて見ましょう。Googleを信じろ。\n",
    "\n",
    "以下参考\n",
    ">http://pythondatascience.plavox.info/pythonの開発環境/jupyter-notebookを使ってみよう/\n",
    "\n",
    ">http://jupyter-notebook.readthedocs.io/en/latest/examples/Notebook/Working%20With%20Markdown%20Cells.html\n"
   ]
  },
  {
   "cell_type": "markdown",
   "metadata": {
    "colab_type": "text",
    "id": "voM1dqbIgkEi"
   },
   "source": [
    "## 1-3. さて実践\n",
    "では簡単な使い方が分かってきたところで実際にPythonのコードを見てみましょう。初めの2回は基礎を中心にやっていきますが、それでも量は結構多いかもしんないです。**無理にこの時間だけで終わらせようとはせず、自分のペースでやっていきましょう。**速さより頭への定着であったり、可読性だったりが大事だったりします。まあそもそもプログラミングあんまり興味ないよって人はそこまで気にしなくてもいいです。笑\n",
    "\n",
    "一応コードが書いてあるので実行するだけで結果が見えるようにはなってますが、出来たら新しいセルを追加して、実際に写してみるといいかもしれないですね。わりと写経することもお勉強になりますよ。\n",
    "\n",
    "次のセクションから簡単にできそうなとこからまとめます。さらっとやっていきましょう。\n",
    "\n",
    "ちなみにうちの学科だと学部1年のときにC, Javaの基礎の基礎はなんとなくやっているはずなので、その辺勉強してた時の記憶と照らし合わせながらやって見てください。ちょいちょいその辺との対比で例え話を入れたりします。分からなかったら言ってね。"
   ]
  },
  {
   "cell_type": "markdown",
   "metadata": {
    "colab_type": "text",
    "id": "fUfXadM1ijyd"
   },
   "source": [
    "# 2. Pythonのいろは\n",
    "こっから基礎についてまとめていきたいわけなのですが、ぶっちゃけこの手の教材は適当にググればいくらでも出てきます。なので、どう頑張ってもその辺のものと似たり寄ったりなものになってしまいますが、その辺は許してください。ではいきましょう。\n",
    "\n",
    "***\n",
    "\n",
    "キーワード：演算、型(list, tuple, dict, set 含む)、文字列、簡単な関数、if, for, while文"
   ]
  },
  {
   "cell_type": "markdown",
   "metadata": {
    "colab_type": "text",
    "id": "yGCsr8wCjG5S"
   },
   "source": [
    "## 2-1. よくある導入（ド基礎編）\n",
    "プログラミングでよくある導入からやっていきます。まずは文字列やらなんやらを出力してみましょう。（さっきやったけど。）\n",
    "\n",
    "Pythonはこの辺マジで簡単で、print文というのを使えばすぐできます。"
   ]
  },
  {
   "cell_type": "code",
   "execution_count": 3,
   "metadata": {
    "colab": {},
    "colab_type": "code",
    "id": "iR8xyV_mkn4H"
   },
   "outputs": [
    {
     "name": "stdout",
     "output_type": "stream",
     "text": [
      "Hello World!\n"
     ]
    }
   ],
   "source": [
    "print(\"Hello World!\")"
   ]
  },
  {
   "cell_type": "markdown",
   "metadata": {
    "colab_type": "text",
    "id": "gE3zhoyNkqwx"
   },
   "source": [
    "こんだけですね。また文字列以外にも基本的な演算結果も出力できます。"
   ]
  },
  {
   "cell_type": "code",
   "execution_count": 4,
   "metadata": {
    "colab": {},
    "colab_type": "code",
    "id": "JwjkdjXmk17V"
   },
   "outputs": [
    {
     "name": "stdout",
     "output_type": "stream",
     "text": [
      "5\n",
      "6\n",
      "-1\n",
      "0.6666666666666666\n",
      "8\n",
      "2\n",
      "0\n",
      "1\n"
     ]
    }
   ],
   "source": [
    "print(2 + 3)  # 和\n",
    "print(2 * 3)  # 差\n",
    "print(2 - 3)  # 積\n",
    "print(2 / 3)  # 商\n",
    "print(2 ** 3)  # 累乗\n",
    "print(2 % 3)  # 余剰\n",
    "print(2 // 3)  # 商の切り下げ\n",
    "print(4 // 3)  # 上との対比"
   ]
  },
  {
   "cell_type": "markdown",
   "metadata": {
    "colab_type": "text",
    "id": "CW1uzxYRl6t8"
   },
   "source": [
    "また計算する際には優先順位があり、積と商から求められ、カッコ()が優先されます。ふつうの数学と同じですね。"
   ]
  },
  {
   "cell_type": "code",
   "execution_count": 5,
   "metadata": {
    "colab": {},
    "colab_type": "code",
    "id": "1QULzJQqk7mO"
   },
   "outputs": [
    {
     "name": "stdout",
     "output_type": "stream",
     "text": [
      "11.0\n"
     ]
    }
   ],
   "source": [
    "print(2 + 3 * 4 - 9 / (1 + 2))"
   ]
  },
  {
   "cell_type": "markdown",
   "metadata": {
    "colab_type": "text",
    "id": "TGdcyXaxmeRx"
   },
   "source": [
    "簡単なところに時間をかけても仕方ないのでサクッといきますが、この辺でC言語との違いがもう出てますね。\n",
    "\n",
    "まず授業でやったCだと、初めに**#include stdlib.h** とか、**#include stdio.h** とか書いたの覚えてます？\n",
    "あれは標準入出力(print文とか)を使うための宣言だったりするんですが、pythonだとある程度の基本的な文を使うだけなら宣言はいりません。逆に拡張機能みたいなものをガツガツ使うときは宣言するんですけどね。ちなみにちょっと応用的なことをするときはほぼ拡張機能を使います\n",
    "\n",
    "また、行の最後に**セミコロン(;)**がいりません。Cではセミコロンを目印に行の判定をしていたわけですが、Pythonは**インデント**と呼ばれる、スペースや改行の空き数で判定する仕様になっています。なのでセミコロンは必要ありませんが、その代わりにインデントには気をつけるようにしましょう。まだ詳細は分からなくても大丈夫です。やってりゃなんとなく分かってきます。\n",
    "\n",
    "***"
   ]
  },
  {
   "cell_type": "markdown",
   "metadata": {
    "colab_type": "text",
    "id": "G02n1Vz4opUd"
   },
   "source": [
    "### 2-1-1. 型について\n",
    "型って覚えてます？Cでいうところの**int, double, float, char**みたいなやつ。Pythonにももちろんあるわけですが、このへんの変数を使うとなっても、**Pythonは頭が良いので，わざわざ指定しなくても，コードに合わせて自分で型を認識してくれます**．  \n",
    "以下は，Pythonに登場するデータ型の一部です．\n",
    "***\n",
    "- int 整数型　…　正負の値をとる整数。Python3系では上限下限はないらしい。(Python2系については興味があったらぐぐってね)\n",
    "- float 浮動小数点型　…　正負の値をとる小数。基本的な算術演算子はこっちでも使える。\n",
    "- str 文字列型　…　文字列。C言語で言うとこのchar。\n",
    "- list リスト　…　C言語でいうところの配列。データをまとめて管理したりする。でも配列の大きさを最初に指定せずにどんどん動かせます．\n",
    "- tuple タプル　…　リストに似ている。**一度定義すると編集できない。**定数みたいな感じで使う。\n",
    "- dict 辞書　…　C言語では習ってないかも？だけど連想配列に該当する。key, valueで構成される。あとでまとめます。\n",
    "- set 集合　…　ぶっちゃけあんま使わないかも。リストとかにまとめてあるデータの重複を除いて集合で表す感じ。数学と同じですね。\n",
    "- bool ブール　…　ちょっと他と色が違うけど、TrueとかFalseとかいうやつ。真偽判定とかで使う。0か1みたいな感じです．\n",
    "***\n",
    "まだある気がしますが、とりあえずこんなところで。１つずつさっくり見ていきますが、int, floatについてはなんとなく触ってれば分かってくるので省略します。分からんかったら調べて見ましょう"
   ]
  },
  {
   "cell_type": "markdown",
   "metadata": {
    "colab_type": "text",
    "id": "iHPDIrwjAUi7"
   },
   "source": [
    "### 2-1-2. str 文字列型\n",
    "読んで字の如く、文字の列ですね。Pythonでは文字列を表すためにクォーテーションを用います。**' '**とか**\" \"** みたいなやつですね。\n",
    "前者をシングルクォーテーション、後者をダブルクォーテーションとか言います。どちらを使っても大丈夫です。\n",
    "文字列の中にクォーテーションを使ったりってこともあるので、その場合は前者と後者を混ぜてあげるといいかと思います。\n",
    "具体的には、\"I'm a student.\" みたいな感じで、ダブルの中にシングル混ぜとかだとわかりやすくていいかもですね。\n",
    "\n",
    "文字列を用いる際には以下のような感じで使ったりします。カンマ( , )で区切りましょう。"
   ]
  },
  {
   "cell_type": "code",
   "execution_count": 6,
   "metadata": {
    "colab": {},
    "colab_type": "code",
    "id": "75rn_O3Rmbnw"
   },
   "outputs": [
    {
     "name": "stdout",
     "output_type": "stream",
     "text": [
      "Waseda\n",
      "Hello  Waseda\n",
      "Waseda の設立は\n",
      " 1882 年です\n",
      "日向は\n",
      "木の葉にて\n",
      "最強\n",
      "\n"
     ]
    }
   ],
   "source": [
    "# Univという変数に文字列を格納している\n",
    "Univ = \"Waseda\"\n",
    "print(Univ)\n",
    "\n",
    "# 変数と文字列を一緒に使ったりもできる\n",
    "print(\"Hello \", Univ)\n",
    "\n",
    "# 文字列変数とintやfloatの変数も一緒にOK\n",
    "year = 1882\n",
    "print(Univ, \"の設立は\\n\", year, \"年です\")  # \\nで改行\n",
    "\n",
    "# 長めの文字列を変数で定義する場合は、\"\"\"~~~\"\"\"で定義推奨\n",
    "long_str = \"\"\"日向は\n",
    "木の葉にて\n",
    "最強\n",
    "\"\"\"\n",
    "print(long_str)"
   ]
  },
  {
   "cell_type": "markdown",
   "metadata": {
    "colab_type": "text",
    "id": "-YlmmEC-EqKV"
   },
   "source": [
    "こんな感じです。またデータ処理とかになると、以下のようなメソッドや、スライスとかいう機能を使ったりします。"
   ]
  },
  {
   "cell_type": "code",
   "execution_count": 7,
   "metadata": {
    "colab": {},
    "colab_type": "code",
    "id": "76mwT1KGECoY"
   },
   "outputs": [
    {
     "name": "stdout",
     "output_type": "stream",
     "text": [
      "文字列の抜き出し\n",
      "s\n",
      "sed\n",
      "aseda\n",
      "Wased\n",
      "- - - - - - - - - - - - - - - - - - - - - -\n",
      "文字列の長さ\n",
      "6\n",
      "5\n",
      "15\n",
      "- - - - - - - - - - - - - - - - - - - - - -\n",
      "要素が含まれるか判定\n",
      "True\n",
      "False\n",
      "- - - - - - - - - - - - - - - - - - - - - -\n",
      "文字列の分割\n",
      "['hasuike', 'takashi', 'Operations', 'Research']\n",
      "- - - - - - - - - - - - - - - - - - - - - -\n",
      "文字列の結合\n",
      "Arakawa_Under_The_Bridge\n",
      "- - - - - - - - - - - - - - - - - - - - - -\n"
     ]
    }
   ],
   "source": [
    "# インデックスを用いる。インデックスは0からの連番で振られている。\n",
    "Univ = \"Waseda\"\n",
    "text = \"hasuike-takashi-Operations-Research\"\n",
    "\n",
    "# インデックスを用いたスライス\n",
    "print('文字列の抜き出し')\n",
    "print(Univ[2])\n",
    "print(Univ[2:5])\n",
    "print(Univ[1:])\n",
    "print(Univ[:5])\n",
    "print(\"- - - - - - - - - - - - - - - - - - - - - -\")\n",
    "\n",
    "# len()で囲ってあげると長さをreturn\n",
    "print('文字列の長さ')\n",
    "print(len(Univ))\n",
    "print(len(\"あいうえお\"))\n",
    "print(len(\"I am a student.\"))\n",
    "print(\"- - - - - - - - - - - - - - - - - - - - - -\")\n",
    "\n",
    "\n",
    "# in演算子で文字列が中にあるかどうかを判定\n",
    "print('要素が含まれるか判定')\n",
    "print(\"as\" in Univ)\n",
    "print(\"KO\" in Univ)\n",
    "print(\"- - - - - - - - - - - - - - - - - - - - - -\")\n",
    "\n",
    "\n",
    "# .split()メソッドで指定文字列で分割\n",
    "print('文字列の分割')\n",
    "print(text.split(\"-\"))\n",
    "print(\"- - - - - - - - - - - - - - - - - - - - - -\")\n",
    "\n",
    "\n",
    "# .join()メソッドで指定文字列で結合できる\n",
    "print('文字列の結合')\n",
    "print(\"_\".join([\"Arakawa\", \"Under\", \"The\", \"Bridge\"]))\n",
    "print(\"- - - - - - - - - - - - - - - - - - - - - -\")"
   ]
  },
  {
   "cell_type": "markdown",
   "metadata": {
    "colab_type": "text",
    "id": "0cmdrsQdJkti"
   },
   "source": [
    "よく使うものはこんなもんでしょうか。他にももちろん色々なメソッドや関数があるので、「こんな機能ないのかな〜」みたいなことを思いついたら調べてみてください。調べると結構あるもんです．なんなら自分で気合で実装するより，調べてPythonの機能を使ってあげた方が実装のバグが少ないとか言われてるくらいです．  \n",
    "ちなみに今更ですが、# を使うとコメントを表示できます。複数コメントの場合は\"\"\" \"\"\"みたいな感じでクォーテーション3つで囲みます。シングルでもダブルでも可。文字列の複数行定義の際と同じですね。\n",
    "\n",
    "ちなみに最後の方に出てきた、['hasuike', 'takashi', 'Operations', 'Research'] こういうやつ。これをリストと言います。次はlistについて見ていきます。"
   ]
  },
  {
   "cell_type": "markdown",
   "metadata": {
    "colab_type": "text",
    "id": "Bn2uDJ-9KEw0"
   },
   "source": [
    "### 2-1-3. list リスト\n",
    "次はリストです。こいつはマジでよく使います。こいつを使えるようになれば**Pythonの1割は使えるようになったといってもいいでしょう。**あんま大したことなかったですね、すみません。\n",
    "ではさっそく見ていきます。\n",
    "\n",
    "listを表すには、**[ ]** ←このカッコを使います。このカッコの中にいろんな変数や定数などの要素を格納していくことができるといった感じですね。\n",
    "カッコの中には色々なものが入ります。文字列、変数、数字、リスト、タプル…と、大体のものは入ります。では簡単な使い方からみていきましょう．"
   ]
  },
  {
   "cell_type": "code",
   "execution_count": 8,
   "metadata": {
    "colab": {},
    "colab_type": "code",
    "id": "pgZYRQKBLE94"
   },
   "outputs": [
    {
     "name": "stdout",
     "output_type": "stream",
     "text": [
      "リストの要素の抜き出し\n",
      "['Math', 'English', 'OR', 'Programming', 'Seminar', 'Writing Paper']\n",
      "Math\n",
      "OR\n",
      "Writing Paper\n",
      "['English', 'OR', 'Programming']\n",
      "['Math', 'English', 'OR']\n",
      "- - - - - - - - - - - - - - - - - - - - - -\n",
      "リストの長さ\n",
      "6\n",
      "2\n",
      "- - - - - - - - - - - - - - - - - - - - - -\n",
      "リストの要素判定\n",
      "True\n",
      "False\n",
      "- - - - - - - - - - - - - - - - - - - - - -\n"
     ]
    }
   ],
   "source": [
    "# リストの宣言\n",
    "study = [\"Math\", \"English\", \"OR\", \"Programming\", \"Seminar\", \"Writing Paper\"]\n",
    "\n",
    "# 各要素の表示 => [index]で指定した箇所の要素を表示する\n",
    "# C言語の配列と似ていますね．\n",
    "print('リストの要素の抜き出し')\n",
    "print(study)\n",
    "print(study[0])\n",
    "print(study[2])\n",
    "print(study[-1])  # [-1]だと一番うしろ\n",
    "print(study[1:4])  # こっちでもスライスが使える\n",
    "print(study[:3])\n",
    "print(\"- - - - - - - - - - - - - - - - - - - - - -\")\n",
    "\n",
    "# len()はlistにも使える\n",
    "print('リストの長さ')\n",
    "print(len(study))\n",
    "print(len(study[2:4]))\n",
    "print(\"- - - - - - - - - - - - - - - - - - - - - -\")\n",
    "\n",
    "# in演算子も使える\n",
    "print('リストの要素判定')\n",
    "print(\"Math\" in study)\n",
    "print(\"Science\" in study)\n",
    "print(\"- - - - - - - - - - - - - - - - - - - - - -\")"
   ]
  },
  {
   "cell_type": "markdown",
   "metadata": {
    "colab_type": "text",
    "id": "-qxKo030Pv6x"
   },
   "source": [
    "こんな感じです。indexが絡むと頭がこんがらがらがらがっちゃうかもしれませんが、慣れると結構分かっちゃうもんです。焦らずゆっくりいきましょう。\n",
    "では次にlistへの要素の追加やソートなどを見ていきます。"
   ]
  },
  {
   "cell_type": "code",
   "execution_count": 9,
   "metadata": {
    "colab": {},
    "colab_type": "code",
    "id": "i6WF2D3wIQ71"
   },
   "outputs": [
    {
     "name": "stdout",
     "output_type": "stream",
     "text": [
      "['Math', 'English', 'OR', 'Programming', 'Seminar', 'Writing Paper']\n",
      "- - - - - - - - - - - - - - - - - - - - - -\n",
      "要素の追加\n",
      "['Math', 'English', 'OR', 'Programming', 'Seminar', 'Writing Paper', 'Machine Learning']\n",
      "- - - - - - - - - - - - - - - - - - - - - -\n",
      "要素の除去....remove\n",
      "['Math', 'OR', 'Programming', 'Seminar', 'Writing Paper', 'Machine Learning']\n",
      "- - - - - - - - - - - - - - - - - - - - - -\n",
      "要素の除去...pop\n",
      "['Math', 'Programming', 'Seminar', 'Writing Paper', 'Machine Learning']\n",
      "Machine Learning\n",
      "['Math', 'Programming', 'Seminar', 'Writing Paper']\n",
      "- - - - - - - - - - - - - - - - - - - - - -\n",
      "indexの検索\n",
      "['Math', 'Programming', 'Seminar', 'Writing Paper']\n",
      "2\n",
      "- - - - - - - - - - - - - - - - - - - - - -\n",
      "リストinリスト\n",
      "['Math', 'Programming', 'Seminar', 'Writing Paper', ['Tea', 'Coffee', 'Water']]\n",
      "Coffee\n",
      "- - - - - - - - - - - - - - - - - - - - - -\n",
      "リストの結合\n",
      "['Math', 'English', 'OR', 'Programming', 'Seminar', 'Writing Paper', 'Tea', 'Coffee', 'Water']\n",
      "- - - - - - - - - - - - - - - - - - - - - -\n",
      "リストのソート\n",
      "[1, 99, 10]\n",
      "[1, 10, 99]\n",
      "[99, 10, 1]\n",
      "- - - - - - - - - - - - - - - - - - - - - -\n",
      "合計\n",
      "[1, 99, 10]\n",
      "110\n"
     ]
    }
   ],
   "source": [
    "# さっき宣言したstudyリストを使います。\n",
    "study = [\"Math\", \"English\", \"OR\", \"Programming\", \"Seminar\", \"Writing Paper\"]\n",
    "print(study)\n",
    "print(\"- - - - - - - - - - - - - - - - - - - - - -\")\n",
    "\n",
    "# 要素の追加 => .append()\n",
    "study.append(\"Machine Learning\")\n",
    "print('要素の追加')\n",
    "print(study)\n",
    "print(\"- - - - - - - - - - - - - - - - - - - - - -\")\n",
    "\n",
    "# 要素の削除(指定した要素) => 重複がある場合は最初が消える\n",
    "print('要素の除去....remove')\n",
    "study.remove(\"English\")\n",
    "print(study)\n",
    "print(\"- - - - - - - - - - - - - - - - - - - - - -\")\n",
    "\n",
    "# 要素の削除(indexで指定) => removeと違いindex指定、かつ戻り値がある。index指定しない場合は一番後ろが消える\n",
    "print('要素の除去...pop')\n",
    "study.pop(1)\n",
    "print(study)\n",
    "print(study.pop())\n",
    "print(study)\n",
    "print(\"- - - - - - - - - - - - - - - - - - - - - -\")\n",
    "\n",
    "# 要素の入っているindexを検索\n",
    "print('indexの検索')\n",
    "print(study)\n",
    "print(study.index(\"Seminar\"))\n",
    "print(\"- - - - - - - - - - - - - - - - - - - - - -\")\n",
    "\n",
    "# リストのリスト => 要は二次元配列\n",
    "drink = [\"Tea\", \"Coffee\", \"Water\"]\n",
    "study.append(drink)\n",
    "print('リストinリスト')\n",
    "print(study)\n",
    "print(study[-1][1])  # 一番後ろの要素の、indexが1の要素を指定してる\n",
    "print(\"- - - - - - - - - - - - - - - - - - - - - -\")\n",
    "\n",
    "# リストの足し算　=> リストの結合\n",
    "study = [\"Math\", \"English\", \"OR\", \"Programming\", \"Seminar\", \"Writing Paper\"]\n",
    "drink = [\"Tea\", \"Coffee\", \"Water\"]\n",
    "print('リストの結合')\n",
    "print(study + drink)\n",
    "print(\"- - - - - - - - - - - - - - - - - - - - - -\")\n",
    "\n",
    "# リストのソート\n",
    "num = [1, 99, 10]\n",
    "print('リストのソート')\n",
    "print(num)\n",
    "print(sorted(num))\n",
    "print(sorted(num, reverse=True))\n",
    "print(\"- - - - - - - - - - - - - - - - - - - - - -\")\n",
    "\n",
    "# リストの合計\n",
    "num = [1, 99, 10]\n",
    "print('合計')\n",
    "print(num)\n",
    "print(sum(num))\n"
   ]
  },
  {
   "cell_type": "markdown",
   "metadata": {
    "colab_type": "text",
    "id": "zpsmJjk6Slju"
   },
   "source": [
    "変数の後ろについている```.append```みたいな処理のことを**メソッド**と呼ばれます．変数(オブジェクト)が持っている機能・能力みたいなものです．この場合だと「appendはlistオブジェクトのメソッド」という感じですね\n",
    "\n",
    "逆に前についている```sorted```などは関数です．Pythonはなにも定義しなくても使える関数が他にもいくつかあります．必要になったらググってみましょう．C言語みたいに合計を計算するみたいな簡単な機能はこれで十分だったりします\n",
    "\n",
    "もちろん他にも色々な使い方があるのですが、とりあえずこんなところで。次はlistに似ているtupleを見ていきます。"
   ]
  },
  {
   "cell_type": "markdown",
   "metadata": {
    "colab_type": "text",
    "id": "1pJuL3WhSt2Z"
   },
   "source": [
    "### 2-1-4. tuple タプル\n",
    "お次はタプル。たま〜に使います。ぶっちゃけリストで全部良くね？とか思いますが、開発の場ではこれはいじっちゃいけない！，いじられるとバグの原因！みたいなモノはタプルで定義したりします。(ちなみに僕はあんまり使えていません)\n",
    "\n",
    "リストに対して、タプルは**( )** ←このカッコを使います。そしてリストと異なるのは、編集ができないことにあります。要は**データの追加とか、削除ができません。**indexを指定しての参照とかはできます。実際に見てみましょう。"
   ]
  },
  {
   "cell_type": "code",
   "execution_count": 10,
   "metadata": {
    "colab": {},
    "colab_type": "code",
    "id": "fTJzC6FkNOZ-"
   },
   "outputs": [
    {
     "name": "stdout",
     "output_type": "stream",
     "text": [
      "tupleの要素の抜き出し\n",
      "('Waseda', 'Toyama', 'Nishiwaseda', 'Tokorozawa', 'Higashifushimi')\n",
      "Nishiwaseda\n",
      "('Toyama', 'Nishiwaseda', 'Tokorozawa')\n"
     ]
    }
   ],
   "source": [
    "# tupleの宣言\n",
    "campus = (\"Waseda\", \"Toyama\", \"Nishiwaseda\", \"Tokorozawa\", \"Higashifushimi\")\n",
    "print('tupleの要素の抜き出し')\n",
    "print(campus)\n",
    "print(campus[2])  # 要素へのアクセスはlistと同じ\n",
    "print(campus[1:4])  # スライスも使える"
   ]
  },
  {
   "cell_type": "code",
   "execution_count": 11,
   "metadata": {
    "colab": {},
    "colab_type": "code",
    "id": "fr0ev_l9U30-"
   },
   "outputs": [
    {
     "ename": "AttributeError",
     "evalue": "'tuple' object has no attribute 'append'",
     "output_type": "error",
     "traceback": [
      "\u001b[0;31m---------------------------------------------------------------------------\u001b[0m",
      "\u001b[0;31mAttributeError\u001b[0m                            Traceback (most recent call last)",
      "\u001b[1;32m/Users/miharu/Desktop/Github/B3semi-2023/src/Python/part1-Python_basic1.ipynb Cell 30\u001b[0m line \u001b[0;36m2\n\u001b[1;32m      <a href='vscode-notebook-cell:/Users/miharu/Desktop/Github/B3semi-2023/src/Python/part1-Python_basic1.ipynb#Y204sZmlsZQ%3D%3D?line=0'>1</a>\u001b[0m \u001b[39m# このセルは実行するとエラー\u001b[39;00m\n\u001b[0;32m----> <a href='vscode-notebook-cell:/Users/miharu/Desktop/Github/B3semi-2023/src/Python/part1-Python_basic1.ipynb#Y204sZmlsZQ%3D%3D?line=1'>2</a>\u001b[0m campus\u001b[39m.\u001b[39mappend(\u001b[39m\"\u001b[39m\u001b[39mGakuin\u001b[39m\u001b[39m\"\u001b[39m)\n",
      "\u001b[0;31mAttributeError\u001b[0m: 'tuple' object has no attribute 'append'"
     ]
    }
   ],
   "source": [
    "# このセルは実行するとエラー\n",
    "campus.append(\"Gakuin\")\n",
    "# この他にもtupleの要素削除用メソッドなどは用意されていない"
   ]
  },
  {
   "cell_type": "code",
   "execution_count": 12,
   "metadata": {
    "colab": {},
    "colab_type": "code",
    "id": "Xx7xrldAVS69"
   },
   "outputs": [
    {
     "name": "stdout",
     "output_type": "stream",
     "text": [
      "tupleの結合\n",
      "('Waseda', 'Toyama', 'Nishiwaseda', 'Tokorozawa', 'Higashifushimi', 'Gakuin', 'Honjo')\n"
     ]
    }
   ],
   "source": [
    "# ただしtuple同士の結合はできる\n",
    "highschool_fuzoku = (\"Gakuin\", \"Honjo\")\n",
    "print('tupleの結合')\n",
    "print(campus + highschool_fuzoku)"
   ]
  },
  {
   "cell_type": "markdown",
   "metadata": {
    "colab_type": "text",
    "id": "QK8aeIthVyYk"
   },
   "source": [
    "まあこんな感じです。個人で研究するときに使うだけとかなら、リストでもいい気がします。\n",
    "\n",
    "ほんでお次はdict 辞書型です。ここまでのlist, tupleは順番がありました。それに対してdictは基本的には順番がないです。（正確にはPythonのVerによる。）なんやそれって感じですが、とりあえず次へ行きましょう。"
   ]
  },
  {
   "cell_type": "markdown",
   "metadata": {
    "colab_type": "text",
    "id": "xq3homuEWMTx"
   },
   "source": [
    "### 2-1-5. dict 辞書\n",
    "こいつはそこそこ使うと思います。前述の通り、順番がない代わりにkeyとvalueというものがありそれぞれが対応しています。イメージ的には，リストをindexで指定するのではなく，特定のkeyで指定してあげる感じです．使えば感覚つかめると思います．\n",
    "\n",
    "そしてこいつは**{ }** ←このカッコを使います。まあ見ればわかります。ちなみにlistのように要素の追加とか削除はできます。\n",
    "\n",
    "基本の形は、**{\"key\": value}** という形です。"
   ]
  },
  {
   "cell_type": "code",
   "execution_count": 13,
   "metadata": {
    "colab": {},
    "colab_type": "code",
    "id": "hRrfsPSxVkN1"
   },
   "outputs": [
    {
     "name": "stdout",
     "output_type": "stream",
     "text": [
      "{'Shiina': 'Operations Research', 'Takahashi': 'System Theory', 'Nagata': 'Statistics', 'Hasuike': 'Operations Research'}\n",
      "Operations Research\n",
      "- - - - - - - - - - - - - - - - - - - - - -\n",
      "True\n",
      "False\n",
      "- - - - - - - - - - - - - - - - - - - - - -\n",
      "{'Shiina': 'Operations Research', 'Takahashi': 'System Theory', 'Nagata': 'Statistics', 'Hasuike': 'Operations Research', 'Goto': 'Data Science'}\n",
      "- - - - - - - - - - - - - - - - - - - - - -\n",
      "dict_keys(['Shiina', 'Takahashi', 'Nagata', 'Hasuike', 'Goto'])\n",
      "dict_values(['Operations Research', 'System Theory', 'Statistics', 'Operations Research', 'Data Science'])\n",
      "dict_items([('Shiina', 'Operations Research'), ('Takahashi', 'System Theory'), ('Nagata', 'Statistics'), ('Hasuike', 'Operations Research'), ('Goto', 'Data Science')])\n",
      "- - - - - - - - - - - - - - - - - - - - - -\n"
     ]
    }
   ],
   "source": [
    "# dictの宣言\n",
    "Professors_13 = {\n",
    "    \"Shiina\": \"Operations Research\",\n",
    "    \"Takahashi\": \"System Theory\",\n",
    "    \"Nagata\": \"Statistics\",\n",
    "    \"Hasuike\": \"Operations Research\"\n",
    "}\n",
    "print(Professors_13)\n",
    "\n",
    "# keyを指定して、先生の担当科目を見てみる\n",
    "print(Professors_13[\"Hasuike\"])\n",
    "print(\"- - - - - - - - - - - - - - - - - - - - - -\")\n",
    "\n",
    "# 該当するkeyが存在するかを調べる\n",
    "print(\"Nagata\" in Professors_13)\n",
    "print(\"Goto\" in Professors_13)\n",
    "print(\"- - - - - - - - - - - - - - - - - - - - - -\")\n",
    "\n",
    "# 要素を追加する\n",
    "# 最初に用意しないkeyを指定すると，そのkeyとvalueの組がdictに追加される\n",
    "Professors_13[\"Goto\"] = \"Data Science\"\n",
    "print(Professors_13)\n",
    "print(\"- - - - - - - - - - - - - - - - - - - - - -\")\n",
    "\n",
    "# keyだけ、valueだけ、key-valueのセットを抜き出す\n",
    "print(Professors_13.keys())\n",
    "print(Professors_13.values())\n",
    "print(Professors_13.items())\n",
    "print(\"- - - - - - - - - - - - - - - - - - - - - -\")"
   ]
  },
  {
   "cell_type": "markdown",
   "metadata": {
    "colab_type": "text",
    "id": "l6YEUM9ragFw"
   },
   "source": [
    "実際の研究とかだと、指定した要素に対応するリストや辞書が欲しいとかいうときに使ったりします。要はvalueに来るものはなんでもいいという事ですね。（上の例だと文字列しか使ってないけども。）\n",
    "\n",
    "そして気をつけたいのは、**indexがない事。**（indexはliatやtupleで指定するときに使った0始まりのやつですね。）つまりはkeyで指定する必要があるということですね。これまでと違って、[key]という形なので注意。（\" \"使うことが多いので気をつけましょう。）\n",
    "\n",
    "こんなもんで基本的な辞書の使い方はOKなのですが、順番を固定した辞書というのも一応存在します。またやらないですが、ライブラリインポートという機能拡張を実施すると、これができるようになります。気になる人は時間のあるときにでも調べてみてください。（キーワード：python dict 順序）  \n",
    "2019/09/24 追記：Python3.7以降のVerだと自動で順番を保存してくれてるみたいです。3.6以前のPythonを使っていて順番を保存したい...という場合は調べてみましょう。"
   ]
  },
  {
   "cell_type": "markdown",
   "metadata": {
    "colab_type": "text",
    "id": "XjOzHL0zc5o8"
   },
   "source": [
    "### 2-1-6. set 集合\n",
    "ぶっちゃけこれはおまけです。なんなら先輩でも知らない人います。これは何かっていうと、**重複要素をまとめちゃってuniqueな要素だけでまとめちゃいましょう！！**みたいなやつです。使用する際は辞書と同じように**{}**を使いますが、keyに対応するvalueは存在しません。要は**{\"要素1\", \"要素2\", \"要素3\"}**みたいな感じって事ですね。例だけ示しときます。"
   ]
  },
  {
   "cell_type": "code",
   "execution_count": 14,
   "metadata": {
    "colab": {},
    "colab_type": "code",
    "id": "XPk-uBB3ZWo9"
   },
   "outputs": [
    {
     "name": "stdout",
     "output_type": "stream",
     "text": [
      "{'Waseda', 'KO', 'Jane', 'Tom', 'Bob', 'Jochi', 'Ann'}\n",
      "['Bob', 'Jane', 'Tom', 'Ann', 'Waseda', 'KO', 'Jochi', 'Ann', 'Bob', 'Waseda']\n",
      "{'KO', 'Tom', 'Jochi', 'Ann', 'Waseda', 'Jane', 'Bob'}\n"
     ]
    }
   ],
   "source": [
    "# サンプルのset\n",
    "names = {\"Bob\", \"Jane\", \"Tom\", \"Ann\", \"Waseda\", \"KO\", \"Jochi\", \"Ann\", \"Bob\", \"Waseda\"}\n",
    "\n",
    "# 表示してみると自動的に重複を消してくれている\n",
    "print(names)\n",
    "\n",
    "# さきほどのものをlistで用意\n",
    "names = [\"Bob\", \"Jane\", \"Tom\", \"Ann\", \"Waseda\", \"KO\", \"Jochi\", \"Ann\", \"Bob\", \"Waseda\"]\n",
    "print(names)\n",
    "print(set(names))  # set()でsetに変換できる"
   ]
  },
  {
   "cell_type": "markdown",
   "metadata": {
    "colab_type": "text",
    "id": "YoPk5NeTfmRf"
   },
   "source": [
    "まあこんなところです。簡単ですね。私がちょいちょい使うのは、最後のところに書いたような感じで、set()を用いた型変換です。これが意味するところは重複を省いた要素をまとめたデータに変換してくれるということですね。\n",
    "\n",
    "そして察しの良いあなたならもうお気づきでしょう、set()に似たようなもので、list()もstr()もdict()もあるわけです。これを使うと重複を消してリストに変換する処理が簡単に出来ちゃったりします。（**キャスト**って言ったりします。）"
   ]
  },
  {
   "cell_type": "code",
   "execution_count": 15,
   "metadata": {
    "colab": {},
    "colab_type": "code",
    "id": "MGD6yyDSgMZv"
   },
   "outputs": [
    {
     "name": "stdout",
     "output_type": "stream",
     "text": [
      "['KO', 'Yasushi', 'Tom', 'Kazuho', 'Jochi', 'Ann', 'Aiji', 'Waseda', 'Jane', 'Reiko', 'Bob', 'Takashi']\n"
     ]
    }
   ],
   "source": [
    "# サンプルリスト\n",
    "names = [\"Bob\", \"Jane\", \"Tom\", \"Ann\", \"Waseda\", \"KO\", \"Jochi\", \"Ann\", \"Bob\", \"Waseda\", \"Takashi\", \"Yasushi\", \"Reiko\", \"KO\", \"Waseda\", \"Kazuho\", \"Ann\", \"Jochi\", \"Aiji\"]\n",
    "\n",
    "# 1行で重複を削除したリストに変換 => set()で重複を削除したものを、list()でリストに変換している\n",
    "names_unique = list(set(names))\n",
    "print(names_unique)"
   ]
  },
  {
   "cell_type": "markdown",
   "metadata": {
    "colab_type": "text",
    "id": "TzSVWP5YhYBf"
   },
   "source": [
    "ここまでにやってきたlist, tuple, dict, setなどは、コレクション型とまとめて言ったりします。要素を複数格納して持てるイメージですね。\n",
    "ということで、**ド基礎はおしまい。次は基礎です。**"
   ]
  },
  {
   "cell_type": "markdown",
   "metadata": {
    "colab_type": "text",
    "id": "oWcc9LyXh7D1"
   },
   "source": [
    "## 2-2. よくある導入（基礎編）\n",
    "**ド基礎があるなら基礎がある。**ということで基礎編です。\n",
    "\n",
    "ド基礎編では変数の型やらその辺の使い方の復習でしたが、ここではif, for, while文とかを復習します。C言語でもあったのですが覚えてますでしょうか？まあやってけば思い出すはずですが、C言語とは書き方が違う部分が多いので、忘れていたとしても大丈夫です。"
   ]
  },
  {
   "cell_type": "markdown",
   "metadata": {
    "colab_type": "text",
    "id": "61HLJB9aixWy"
   },
   "source": [
    "### 2-2-1. if文\n",
    "ifって英語、中学生でやりましたよね。「もし〜なら，〜する」という意味がありました。まあそういうことです。if文を使うと条件によって処理の内容を変えるプログラムを書くことが出来ます。また、elseとかelse ifとかいう文もC言語で使いましたね。それらはPythonだとどのようになるんでしょうか。では見ていきましょう。"
   ]
  },
  {
   "cell_type": "code",
   "execution_count": 16,
   "metadata": {
    "colab": {},
    "colab_type": "code",
    "id": "-wBMcu4MfCyB"
   },
   "outputs": [
    {
     "name": "stdout",
     "output_type": "stream",
     "text": [
      "aは正の数です。\n"
     ]
    }
   ],
   "source": [
    "# まずは適当に変数を宣言\n",
    "a = 10\n",
    "b = -5\n",
    "\n",
    "# 分岐してみる\n",
    "if a > 0:\n",
    "    print(\"aは正の数です。\")\n",
    "elif a == 0:\n",
    "    print(\"aは0です。\")\n",
    "else:\n",
    "    print(\"aは負の数です。\")"
   ]
  },
  {
   "cell_type": "markdown",
   "metadata": {
    "colab_type": "text",
    "id": "tLdGHSMRj-ff"
   },
   "source": [
    "こんな感じです。C言語のif文と対応して上のような書き方になっています。else ifはelifに対応して、あとはそのまんまです。\n",
    "その値と等価か？大きいか？みたいなものは比較演算子といって、==, >, <, >=, <=などで表されます。詳細はググってみてください。\n",
    "\n",
    "また条件を書くときは( )は必要ないです。**その代わり条件を書き終わったらコロン(:)を入力して、改行したのちにインデントを1つ下げます。**\n",
    "インデントとは前述した通りですが、空白や改行によって生じる字下げのことです。こいつをしっかり書いてあげないとPythonさんのが命令を受け取れなくなってエラーを吐いてしまいます。また、インデントを1つ下げると言いましたが、ここでの1つは**空白1つ分に該当するわけではありません。**しばしば言われるのはスペース4つ分開けましょうとか言ったりします。\n",
    "\n",
    "また、空白n個分と言いましたが、プログラミングでよく使うキーに、Tabキーというものがあります。こいつはエディタにもよりますが、空白n個分をTabキー一回で入力してくれたりするやつです。適宜利用してみてください。\n",
    "\n",
    "さてさて、if文の話に戻りますが、四則計算に用いる算術演算子の他に、条件を判定する論理演算子というものがあります。C言語でいうところの**&&とか||**とかですね。覚えてます？"
   ]
  },
  {
   "cell_type": "code",
   "execution_count": 17,
   "metadata": {
    "colab": {},
    "colab_type": "code",
    "id": "49OkKEAPoUDO"
   },
   "outputs": [
    {
     "name": "stdout",
     "output_type": "stream",
     "text": [
      "a,b両方とも5の倍数です。\n",
      "a,bどちらかは負の数です。\n"
     ]
    }
   ],
   "source": [
    "# 変数変えて色々試してみてね\n",
    "a = 5\n",
    "b = -10\n",
    "\n",
    "# and, or, notの例\n",
    "if a%5 == 0 and b%5 == 0:\n",
    "    print(\"a,b両方とも5の倍数です。\")\n",
    "if a%3 == 0 and b%3 == 0:\n",
    "    print(\"a,b両方とも3の倍数です。\")\n",
    "if a < 0 or b < 0:\n",
    "    print(\"a,bどちらかは負の数です。\")\n",
    "if not a > 0:\n",
    "    print(\"aは0より大きくありません。\")"
   ]
  },
  {
   "cell_type": "markdown",
   "metadata": {
    "colab_type": "text",
    "id": "gaQfFzLLp1p4"
   },
   "source": [
    "C言語の&&や||はl、Pythonでいうとこのandやorなわけですね。また等価を示すものは==で、否定はnotです。使っていけば慣れてくると思います。\n",
    "\n",
    "また論理演算子をたくさん使ったわけですが、あんまり使い過ぎも良くなかったりします。andやorは並べることができるのですが、長すぎると可読性が落ちてしまうからです。それに対してできるだけ論理演算子を使わないで書くと、if文が何重にも重なってしまい逆に見づらくなってしまうことがあります。(**ネスト**と言ったりします。)\n",
    "\n",
    "この辺は見やすさ、と理解のしやすさのバランスがとれるように、程よいレベルを見分けてかけるといいですね。以下に2変数の正負を判定するコードを書いて見ました。これを論理演算子を用いると逆にわかりづらいコードになってしまうかもしんないですね。使いどころを間違えないように気をつけられるとGoodです。\n"
   ]
  },
  {
   "cell_type": "code",
   "execution_count": 18,
   "metadata": {
    "colab": {},
    "colab_type": "code",
    "id": "VdqmRozfm3Qe"
   },
   "outputs": [
    {
     "ename": "IndentationError",
     "evalue": "expected an indented block after 'else' statement on line 14 (1234051874.py, line 15)",
     "output_type": "error",
     "traceback": [
      "\u001b[0;36m  Cell \u001b[0;32mIn[18], line 15\u001b[0;36m\u001b[0m\n\u001b[0;31m    print(\"aは負の数、bは正の数です。\")\u001b[0m\n\u001b[0m    ^\u001b[0m\n\u001b[0;31mIndentationError\u001b[0m\u001b[0;31m:\u001b[0m expected an indented block after 'else' statement on line 14\n"
     ]
    }
   ],
   "source": [
    "# 適当に変数を設定\n",
    "a = 10\n",
    "b = 0\n",
    "\n",
    "# 数の正負判定\n",
    "if a * b > 0:\n",
    "    if a > 0:\n",
    "        print(\"a,b両方正の数です。\")\n",
    "    else:\n",
    "        print(\"a,b両方負の数です。\")\n",
    "elif a * b < 0:\n",
    "    if a > 0:\n",
    "        print(\"aは正の数、bは負の数です。\")\n",
    "    else:\n",
    "    print(\"aは負の数、bは正の数です。\")\n",
    "else:\n",
    "    if a == 0:\n",
    "        if b > 0:\n",
    "        print(\"aが0, bが正の数です。\")\n",
    "    else:\n",
    "        print(\"aが0, bが負の数です。\")\n",
    "    else:\n",
    "        if a > 0:\n",
    "            print(\"aが正の数, bが0です。\")\n",
    "        else:\n",
    "            print(\"aが負の数, bが0です。\")"
   ]
  },
  {
   "cell_type": "markdown",
   "metadata": {
    "colab_type": "text",
    "id": "N-0I3eTlm2KD"
   },
   "source": [
    "if文の基本はこんなもんでOKです。気をつけて欲しいことは、**if文の条件判定がTrueだったら通るということです。**つまりTrueを意味するものが条件にきた場合は処理が通るということなので、この辺には気をつけましょう。下のセルを実行する前に最終的な出力がどうなるかを予想してみましょう。わからない場合は、間にprint(a)を入れて、途中の結果を確認してみるのもいいでしょう。"
   ]
  },
  {
   "cell_type": "code",
   "execution_count": 19,
   "metadata": {
    "colab": {},
    "colab_type": "code",
    "id": "BloosymssZoE"
   },
   "outputs": [
    {
     "name": "stdout",
     "output_type": "stream",
     "text": [
      "'Math'はstudyリストに入っています。\n",
      "190\n"
     ]
    }
   ],
   "source": [
    "# 実行して結果を確認してみてください。ここまでの復習も兼ねてます。\n",
    "study = [\"Math\", \"English\", \"OR\", \"Programming\", \"Seminar\", \"Writing Paper\"]\n",
    "\n",
    "# in演算子の処理結果は？\n",
    "if \"Math\" in study:\n",
    "    print(\"'Math'はstudyリストに入っています。\")\n",
    "\n",
    "# 最終的なprint文の表示内容は何だろう？\n",
    "# わからなかったら1つ1つの条件文だけを実行して，どう処理されているのかを確認してみよう\n",
    "a = 20\n",
    "if \"Math\" in study:\n",
    "    a = 10\n",
    "if \"Machine Learning\" in study:\n",
    "    a = 5\n",
    "if 1:\n",
    "    a = a * 20\n",
    "if 0:\n",
    "    a = a * 2\n",
    "if 10:\n",
    "    a = a + 20\n",
    "if -10:\n",
    "    a = a + 10\n",
    "if True:\n",
    "    a -= 10\n",
    "if False:\n",
    "    a += 20\n",
    "if \"dog\":\n",
    "    a -= 10\n",
    "if \"cat\":\n",
    "    a -= 20\n",
    "if \"\":\n",
    "    a *= 2\n",
    "\n",
    "# わからなかったら途中にprint(a)を入れてどう変わっていくかを見てみましょう。\n",
    "print(a)"
   ]
  },
  {
   "cell_type": "markdown",
   "metadata": {
    "colab_type": "text",
    "id": "yBW9ADfhu36t"
   },
   "source": [
    "なんとなく分かったでしょうか？実は変数になにかしらの値が入っていればTrueを返す仕様になっています．この例だと```1```や```'dog'```は値をもつので，if文での処理がされます．一方，```0```や```\"\"```は値がないと判定されるので，Falseが返されif文での処理はされません．0は一応値ですが，処理をしてくれない，というのがわかりづらいので覚えておきましょう．\n",
    "\n",
    "ちなみに途中に挟んだa += 10とかいうのは、a = a + 10のようなものを短縮した形になってます。C言語でもそうでしたね．\n",
    "\n",
    "このような処理をインクリメント、デクリメントとか言ったりします。C言語ではa++とか、a--とかをfor文で書いてましたね。その書き方はPythonではできないので注意してください。では次にfor文を見ていきましょう。"
   ]
  },
  {
   "cell_type": "markdown",
   "metadata": {
    "colab_type": "text",
    "id": "W18No1--wgDf"
   },
   "source": [
    "### 2-2-2. for文\n",
    "for文は処理を繰り返す(loop)ときに使います。なんとなく思い出してきましたかね？ということでガンガン進んでいきたいのですが、C言語と比べてだいぶ書き方が異なります。しかし慣れると便利です。Cの方が明示されている分わかりやすいかもしれないけど。"
   ]
  },
  {
   "cell_type": "code",
   "execution_count": 20,
   "metadata": {
    "colab": {},
    "colab_type": "code",
    "id": "Ab1vilpZxBcd"
   },
   "outputs": [
    {
     "name": "stdout",
     "output_type": "stream",
     "text": [
      "0\n",
      "1\n",
      "2\n",
      "3\n",
      "4\n",
      "5\n",
      "6\n",
      "7\n",
      "8\n",
      "9\n"
     ]
    }
   ],
   "source": [
    "\"\"\"\n",
    "# C言語での処理内容を１回書いとく。\n",
    "int i;\n",
    "for(i=0, i++, i<10){\n",
    "  printf(\"%d\\n\", i);\n",
    "}\n",
    "# こう書いた場合だとこんな感じの処理結果になる。\n",
    ">>0 1 2 3 4 5 6 7 8 9  (面倒なので改行じゃなくてスペースにしてます)\n",
    "\"\"\"\n",
    "\n",
    "# pythonで同じ処理を書いてみる\n",
    "for i in [0,1,2,3,4,5,6,7,8,9]:\n",
    "    print(i)"
   ]
  },
  {
   "cell_type": "markdown",
   "metadata": {
    "colab_type": "text",
    "id": "pqaXdKXHwgAR"
   },
   "source": [
    "こんな感じです。\n",
    "\n",
    "Cの場合だと、\n",
    "1. 変数iを初期化する\n",
    "2. for文の中で変数iに0を代入\n",
    "3. iをインクリメント(1ずつ加算していく)\n",
    "4. iが10未満を満たしている間だけ処理をループ\n",
    "\n",
    "みたいな感じでした。\n",
    "それに対してPythonだと、\n",
    "1. in演算子の後ろにあるモノを参照する(詳しくはイテレータと言います)\n",
    "2. 頭から1つずつ取ってきてそいつを変数iとして扱う（ifと同じくセミコロンは忘れないように）\n",
    "3. 順番に要素を引っこ抜いてきて、全部参照したらおしまい\n",
    "\n",
    "て感じです。割と直感的かもしんないですね。ちなみにこのクソ長いリストをわざわざ手入力するのはめんどくさいですよね．以下のような書き方でまとめることもできます。\n",
    "\n"
   ]
  },
  {
   "cell_type": "code",
   "execution_count": 21,
   "metadata": {
    "colab": {},
    "colab_type": "code",
    "id": "JKfiDYUvzHVX"
   },
   "outputs": [
    {
     "name": "stdout",
     "output_type": "stream",
     "text": [
      "0\n",
      "1\n",
      "2\n",
      "3\n",
      "4\n",
      "5\n",
      "6\n",
      "7\n",
      "8\n",
      "9\n"
     ]
    }
   ],
   "source": [
    "# range()を使ってみる\n",
    "for i in range(10):\n",
    "    print(i)"
   ]
  },
  {
   "cell_type": "markdown",
   "metadata": {
    "colab_type": "text",
    "id": "ZCLDbIa1weLi"
   },
   "source": [
    "こんだけでOKです。range()は、0から指定した数字**未満**までの整数を順々に生成してくれるイメージです。指定方法は他にもあるので、調べて見てね。（キーワード：Python range）\n",
    "さてfor文はin演算子の後ろいあるモノを参照すると言いました。**モノ**ってなんでしょう。"
   ]
  },
  {
   "cell_type": "code",
   "execution_count": 22,
   "metadata": {
    "colab": {},
    "colab_type": "code",
    "id": "pajVgVxiu2vw"
   },
   "outputs": [
    {
     "name": "stdout",
     "output_type": "stream",
     "text": [
      "W\n",
      "a\n",
      "s\n",
      "e\n",
      "d\n",
      "a\n",
      " \n",
      "U\n",
      "n\n",
      "i\n",
      "v\n",
      "e\n",
      "r\n",
      "s\n",
      "i\n",
      "t\n",
      "y\n",
      ".\n",
      "- - - - - - - - - - - - - - - - - - - - - -\n",
      "Math\n",
      "English\n",
      "OR\n",
      "Programming\n",
      "Seminar\n",
      "Writing Paper\n",
      "- - - - - - - - - - - - - - - - - - - - - -\n",
      "Waseda\n",
      "Toyama\n",
      "Nishiwaseda\n",
      "Tokorozawa\n",
      "Higashifushimi\n",
      "- - - - - - - - - - - - - - - - - - - - - -\n",
      "0\n",
      "1\n",
      "2\n",
      "3\n",
      "4\n",
      "5\n",
      "- - - - - - - - - - - - - - - - - - - - - -\n",
      "Shiina\n",
      "Takahashi\n",
      "Nagata\n",
      "Hasuike\n",
      "- - - - - - - - - - - - - - - - - - - - - -\n"
     ]
    }
   ],
   "source": [
    "# 色々forループしてみよう\n",
    "for i in \"Waseda University.\":\n",
    "    print(i)\n",
    "print(\"- - - - - - - - - - - - - - - - - - - - - -\")\n",
    "\n",
    "study = [\"Math\", \"English\", \"OR\", \"Programming\", \"Seminar\", \"Writing Paper\"]\n",
    "for subject in study:\n",
    "    print(subject)\n",
    "print(\"- - - - - - - - - - - - - - - - - - - - - -\")\n",
    "\n",
    "campus = (\"Waseda\", \"Toyama\", \"Nishiwaseda\", \"Tokorozawa\", \"Higashifushimi\")\n",
    "for aaa in campus:\n",
    "    print(aaa)\n",
    "print(\"- - - - - - - - - - - - - - - - - - - - - -\")\n",
    "\n",
    "\n",
    "for num in range(len(study)):\n",
    "    print(num)\n",
    "print(\"- - - - - - - - - - - - - - - - - - - - - -\")\n",
    "\n",
    "Professors_13 = {\n",
    "    \"Shiina\": \"Operations Research\",\n",
    "    \"Takahashi\": \"System Theory\",\n",
    "    \"Nagata\": \"Statistics\",\n",
    "    \"Hasuike\": \"Operations Research\"\n",
    "}\n",
    "for data in Professors_13:\n",
    "    print(data)\n",
    "print(\"- - - - - - - - - - - - - - - - - - - - - -\")"
   ]
  },
  {
   "cell_type": "markdown",
   "metadata": {
    "colab_type": "text",
    "id": "USk6p8pv1llD"
   },
   "source": [
    "要はたくさんの要素がまとまっているモノだとうまいことfor文で回せるわけですね。これらをイテラブルオブジェクトと言います。(iterable object)\n",
    "イテラブルオブジェクトにはコレクション型の他に文字列型や、その他のオブジェクトがあります。オブジェクトについてはそのうち触れる予定です。\n",
    "\n",
    "さて、最後のProfessors_13辞書をforループしたはいいものの、keyしか表示されてなくないですか？value情報やその他の情報をまとめて表示したいときはどうしたらいいんでしょうか？\n",
    "\n",
    "**てことでこれはググって見ましょう！**一応ヒントになるものは前述したdictの頁でやっているのですが、調べた方が楽ですね。ということでGoogle先生とこんにちはしてみてください。（キーワード：Python dict for）"
   ]
  },
  {
   "cell_type": "code",
   "execution_count": 23,
   "metadata": {
    "colab": {},
    "colab_type": "code",
    "id": "-4heWVhA1JAQ"
   },
   "outputs": [
    {
     "ename": "SyntaxError",
     "evalue": "cannot assign to ellipsis (2998740327.py, line 2)",
     "output_type": "error",
     "traceback": [
      "\u001b[0;36m  Cell \u001b[0;32mIn[23], line 2\u001b[0;36m\u001b[0m\n\u001b[0;31m    for ...\u001b[0m\n\u001b[0m        ^\u001b[0m\n\u001b[0;31mSyntaxError\u001b[0m\u001b[0;31m:\u001b[0m cannot assign to ellipsis\n"
     ]
    }
   ],
   "source": [
    "# ここにdictのkey要素のループ、value要素のループ、key,valueをまとめてのループ処理を書いてみましょう。\n",
    "for ...\n"
   ]
  },
  {
   "cell_type": "markdown",
   "metadata": {
    "colab_type": "text",
    "id": "FYwXl3zm3nqZ"
   },
   "source": [
    "基本の使い方はこれでおしまい。というかまとめている私が疲れました。やってみて分かったと思いますが、簡単です。\n",
    "\n",
    "あとはこの辺の処理をいい感じにまとめたり、必要情報を自分で調べながらいじれば割となんとかなるもんです。**C言語嫌いだった人、多いかもしれませんが、Pythonさんはそんなムズくないっす。（個人的な感想）**\n",
    "\n",
    "それでもムリ！！って人は…正直すまんかった…。\n",
    "でもでも**システム系の研究室では何かしらのプログラミング言語に触れるのは避けられない**と思われます。ここでやらなくてもいいとは思いますが、少しでも免疫つけておけるといいかもです。頑張っていきましょう。\n",
    "次回はfor文の親戚のwhile文を少しやってから、その他便利な関数などについて勉強してみましょう。分からないことなどあったら、優秀な()先輩たちに聞いて見てください。\n",
    "\n",
    "最後に練習問題が少しあるのでやってみてね。今日はおしまいです！"
   ]
  },
  {
   "cell_type": "markdown",
   "metadata": {
    "colab_type": "text",
    "id": "wRrmrplsX5yd"
   },
   "source": [
    "# 3.練習問題\n",
    "ここまでの復習も兼ねて簡単な練習問題を作ってみました。よく使うコレクション型の変数基本的な取り扱いと、if, for文についてなんとなく分かってればできると思います。"
   ]
  },
  {
   "cell_type": "markdown",
   "metadata": {
    "colab_type": "text",
    "id": "Eh4h_M2oYtlt"
   },
   "source": [
    "## 3-1. コレクション型の練習問題\n",
    "まあとりあえずやってみましょう。分からないことあったらググってみましょう。なんなら知識なくても調べる力さえあれば研究レベルならどうとでもなります。"
   ]
  },
  {
   "cell_type": "markdown",
   "metadata": {
    "colab_type": "text",
    "id": "ojY7uCG9ZDXq"
   },
   "source": [
    "listとdictを混ぜたやつ用意しといて、選んだデータを標準出力できるようにする。要はindexやら階層構造になってるみたいなところのイメージを持ってくれたらうれしいなっていうアレ。\n",
    "\n",
    "それと、あえてrandomモジュールを使ってる。説明してないけど、分からないなりにどういう動きをしているとか、分からないところを自分で調べて解決する力をつけて欲しい。簡単な使い方みたいなのはサンプルで一つ作っておくので、そっからイメージしてくれるといいかも。"
   ]
  },
  {
   "cell_type": "code",
   "execution_count": 24,
   "metadata": {
    "colab": {},
    "colab_type": "code",
    "id": "XybkJg6Baxic"
   },
   "outputs": [
    {
     "name": "stdout",
     "output_type": "stream",
     "text": [
      "0.3765645483493766\n",
      "3\n",
      "a\n"
     ]
    }
   ],
   "source": [
    "# 標準ライブラリのrandomライブラリをimportしている(チャレンジ問題で使うかもです。)\n",
    "# なんとなくrandomライブラリの使い方がわかってくれると嬉しい\n",
    "import random\n",
    "sample_list = [\"a\",\"b\",\"c\",\"d\",\"e\"]\n",
    "print(random.random())\n",
    "print(random.randint(1,10))\n",
    "print(random.choice(sample_list))"
   ]
  },
  {
   "cell_type": "code",
   "execution_count": 25,
   "metadata": {
    "colab": {},
    "colab_type": "code",
    "id": "jBsxXnfYYhxJ"
   },
   "outputs": [],
   "source": [
    "# 今回使用する時間割のデータを作成しておく\n",
    "time_table = {\n",
    "    \"Mon\": [\"Mathmatics\", \"English\", \"Science\", \"Social\", \"Japanese\", \"Information\"],\n",
    "    \"Tue\": [\"English\", \"Science\", \"Mathmatics\", \"Arts\", \"Moral\", \"Physical\"],\n",
    "    \"Wed\": [\"Hisotory\", \"Mathmatics\", \"Social\", \"Information\", \"Japanese\", \"Science\"],\n",
    "    \"Thu\": [\"Science\", \"Japanese\", \"English\", \"Music\", \"Ethics\", \"Hisotory\"],\n",
    "    \"Fri\": [\"Information\", \"Hisotory\", \"Mathmatics\", \"Science\", \"English\"]\n",
    "}"
   ]
  },
  {
   "cell_type": "markdown",
   "metadata": {
    "colab_type": "text",
    "id": "n4xV96aYzieh"
   },
   "source": [
    "#### 問題1... time_tableオブジェクトの型はなんだろう？出力してみよう。 加えてkey, valueについても型を出力してみよう。  \n",
    "ヒント） 型を出力するにはどうしたらいいんだろう...。 **分からないことにぶち当たったらまずはどうするんでしたっけ？**\n"
   ]
  },
  {
   "cell_type": "code",
   "execution_count": 26,
   "metadata": {
    "colab": {},
    "colab_type": "code",
    "id": "pU0QIwkb07kP"
   },
   "outputs": [
    {
     "name": "stdout",
     "output_type": "stream",
     "text": [
      "time_table:<class 'dict'>\n",
      "key:<class 'dict_keys'>\n",
      "value:<class 'dict_values'>\n",
      "Monの型：<class 'str'>, ['Mathmatics', 'English', 'Science', 'Social', 'Japanese', 'Information']の型：<class 'list'>\n",
      "Tueの型：<class 'str'>, ['English', 'Science', 'Mathmatics', 'Arts', 'Moral', 'Physical']の型：<class 'list'>\n",
      "Wedの型：<class 'str'>, ['Hisotory', 'Mathmatics', 'Social', 'Information', 'Japanese', 'Science']の型：<class 'list'>\n",
      "Thuの型：<class 'str'>, ['Science', 'Japanese', 'English', 'Music', 'Ethics', 'Hisotory']の型：<class 'list'>\n",
      "Friの型：<class 'str'>, ['Information', 'Hisotory', 'Mathmatics', 'Science', 'English']の型：<class 'list'>\n"
     ]
    }
   ],
   "source": [
    "print(f\"time_table:{type(time_table)}\\nkey:{type(time_table.keys())}\\nvalue:{type(time_table.values())}\")\n",
    "for k,v in time_table.items():\n",
    "    print(f\"{k}の型：{type(k)}, {v}の型：{type(v)}\")"
   ]
  },
  {
   "cell_type": "markdown",
   "metadata": {
    "colab_type": "text",
    "id": "OBTdc7640779"
   },
   "source": [
    "#### 問題２... 月曜3時間目の授業は何でしょう？ 木曜日の一番最後の授業はなんでしょう？\n",
    "ヒント) 曜日へのアクセスは時間割データの型が分かればうまくできそう。そしたら授業時間へのアクセスは...?  \n",
    "Pythonのインデックスはいくつから始まるんだっけ？マイナスもうまく使えない？\n"
   ]
  },
  {
   "cell_type": "code",
   "execution_count": 33,
   "metadata": {
    "colab": {},
    "colab_type": "code",
    "id": "nv_YSulC1kIy"
   },
   "outputs": [
    {
     "name": "stdout",
     "output_type": "stream",
     "text": [
      "Science\n",
      "Hisotory\n"
     ]
    }
   ],
   "source": [
    "print(time_table[\"Mon\"][2])\n",
    "print(time_table[\"Thu\"][-1])"
   ]
  },
  {
   "cell_type": "markdown",
   "metadata": {
    "colab_type": "text",
    "id": "9-eDKZ6g1kyz"
   },
   "source": [
    "#### 問題3... 英語の授業は１週間に合計何回ありますか？  \n",
    "ヒント) なし！！！がんばってみよう！！！ ただし**調べても分からなければ誰かに聞いてみることも大切です。**"
   ]
  },
  {
   "cell_type": "code",
   "execution_count": 34,
   "metadata": {
    "colab": {},
    "colab_type": "code",
    "id": "pWJkUdOh3vgw"
   },
   "outputs": [
    {
     "name": "stdout",
     "output_type": "stream",
     "text": [
      "4\n"
     ]
    }
   ],
   "source": [
    "cnt = 0\n",
    "for day_time_table in time_table.values():\n",
    "    for lesson in day_time_table:\n",
    "        if lesson == \"English\":\n",
    "            cnt += 1\n",
    "print(cnt)"
   ]
  },
  {
   "cell_type": "markdown",
   "metadata": {
    "colab_type": "text",
    "id": "cHtnaRsCyTqi"
   },
   "source": [
    "## 3-2. チャレンジ問題\n",
    "ちょいむずです。特に辞書の指定要素をループに回す必要があります！  \n",
    "うーん難しいですな。一応問題作っていますが、時間内では終わらないだろうなーってことで作っています。  \n",
    "復習とか予習したいみたいな人はぜひとも挑戦してみてください！"
   ]
  },
  {
   "cell_type": "markdown",
   "metadata": {
    "colab_type": "text",
    "id": "JEND7NnqswAS"
   },
   "source": [
    "#### 問題1...各曜日がそれぞれ何時間分授業があるかを出力してみよう。\n",
    "出力例：Mon 6 (改行) Tue N (改行) Wed N....  \n",
    "ヒント：2-2-2. for文の最後の問題"
   ]
  },
  {
   "cell_type": "code",
   "execution_count": 35,
   "metadata": {
    "colab": {},
    "colab_type": "code",
    "id": "dXbfrvjbpgxV"
   },
   "outputs": [
    {
     "name": "stdout",
     "output_type": "stream",
     "text": [
      "Mon: 6\n",
      "Tue: 6\n",
      "Wed: 6\n",
      "Thu: 6\n",
      "Fri: 5\n"
     ]
    }
   ],
   "source": [
    "for day, day_time_table in time_table.items():\n",
    "    print(f\"{day}: {len(day_time_table)}\")\n"
   ]
  },
  {
   "cell_type": "markdown",
   "metadata": {
    "colab_type": "text",
    "id": "08Db5oAPtDHu"
   },
   "source": [
    "#### 問題2...時間割にある授業が何種類あるかを出力してみよう。\n",
    "ヒント：何種類というのは、collection型で言うとどれに等しい？  \n",
    "listのappendは要素としてcollectioオブジェクトも取れてしまう...どうしよう？"
   ]
  },
  {
   "cell_type": "code",
   "execution_count": 30,
   "metadata": {
    "colab": {},
    "colab_type": "code",
    "id": "4Rh9oHucoIEJ"
   },
   "outputs": [
    {
     "name": "stdout",
     "output_type": "stream",
     "text": [
      "12\n"
     ]
    }
   ],
   "source": [
    "kinds = set()\n",
    "for day_time_table in time_table.values():\n",
    "    for lesson in day_time_table:\n",
    "        kinds.add(lesson)\n",
    "print(len(kinds))"
   ]
  },
  {
   "cell_type": "markdown",
   "metadata": {
    "colab_type": "text",
    "id": "YVL1Z_FEtk_b"
   },
   "source": [
    "#### 問題3...よくよく見たらtime_tableの各曜日ごとの教科情報はlist型でまとめられているので、情報改ざんされてしまうおそれがある。簡単には情報変更ができないように、曜日ごとの時間割情報をtuple型に変更したtuple_time_table という辞書を作成して表示してみよう。  \n",
    " ヒント) 新しい辞書を作成するにはどうしたらいいんだろう？  \n",
    " また既存のlistなどを、他の型に変換するために何か効率的な方法はないだろうか...？"
   ]
  },
  {
   "cell_type": "code",
   "execution_count": 31,
   "metadata": {
    "colab": {},
    "colab_type": "code",
    "id": "TGwVpMU2oYUg"
   },
   "outputs": [
    {
     "name": "stdout",
     "output_type": "stream",
     "text": [
      "{'Mon': ('Mathmatics', 'English', 'Science', 'Social', 'Japanese', 'Information'), 'Tue': ('English', 'Science', 'Mathmatics', 'Arts', 'Moral', 'Physical'), 'Wed': ('Hisotory', 'Mathmatics', 'Social', 'Information', 'Japanese', 'Science'), 'Thu': ('Science', 'Japanese', 'English', 'Music', 'Ethics', 'Hisotory'), 'Fri': ('Information', 'Hisotory', 'Mathmatics', 'Science', 'English')}\n"
     ]
    }
   ],
   "source": [
    "time_table_immutable = dict()\n",
    "for title, day_time_table in time_table.items():\n",
    "    time_table_immutable[title] = tuple(day_time_table)\n",
    "print(time_table_immutable)"
   ]
  },
  {
   "cell_type": "markdown",
   "metadata": {
    "colab_type": "text",
    "id": "2N1HiSJpul4x"
   },
   "source": [
    "#### 問題4... （発展）ややこしいです。\n",
    "あなたはゴリゴリの体育会系・脳筋数学教師の授業を必修なので我慢して受けていますが、出題された問題を解くのはめんどくさそうです。  \n",
    "いちいち考えるのも面倒なので、Pythonのrandomライブラリを使ってサクッと解いてみることにしました。  \n",
    "プログラミングするより自分で考えた方が早いかもしれませんが、そんなことは知らぬ。  \n",
    "さて、問題として以下のようなものが出題されています。\n",
    "- サイコロ(1~6)を3個振って、出た目の積を考える。\n",
    "- この試行を1000回行ったとき、積の平均値がいくつか答えなさい。\n",
    "- ただし教師は頭がとてもお固いので、実際に計算した積がそれぞれ何回出たかを報告しろとか言ってます。アホですね。\n",
    "\n",
    "以上のような問題が出されました。脳筋教師のお望み通り完璧な回答で完膚なきまで叩き潰してあげましょう。\n",
    "\n",
    "***\n",
    "\n",
    "求められる回答(出力結果)は以下の2つです。  \n",
    "1. サイコロを3個振って出た目の積を記録し、1000回施行したときの平均値。（**理論値ではありません、実際に(PC上で)振るのです。**）  \n",
    "2. 積がそれぞれ何回でたかを、Pythonの辞書形式でまとめて脳筋教師の前に叩きつける。\n",
    "\n",
    "***\n",
    "\n",
    "ヒントその１)  \n",
    "サイコロを振るってことは、つまり1~6の値がランダムに取れたら良いわけですよね...。乱数はどうやって作れるんだろう...randomライブラリってやつでなとかできないかな？\n",
    "\n",
    "ヒントその２）  \n",
    "積の値が1000個あるわけだけど，平均はPythonでどうやって書ける？関数がありそう...？合計/長さでも求められそう...？\n",
    "\n",
    "ヒントその３）  \n",
    "辞書はkey, valueという形でまとめることができます。例えば、**key=積、value=実際に積として出現した回数**とかって考えたらうまくまとめられる...?\n"
   ]
  },
  {
   "cell_type": "code",
   "execution_count": 37,
   "metadata": {
    "colab": {},
    "colab_type": "code",
    "id": "qNOjjPiNuUwt"
   },
   "outputs": [
    {
     "name": "stdout",
     "output_type": "stream",
     "text": [
      "1000回試行した実験結果は\n",
      "1:5回\n",
      "2:13回\n",
      "3:9回\n",
      "4:26回\n",
      "5:14回\n",
      "6:41回\n",
      "8:25回\n",
      "9:11回\n",
      "10:21回\n",
      "12:77回\n",
      "15:20回\n",
      "16:23回\n",
      "18:41回\n",
      "20:41回\n",
      "24:72回\n",
      "25:15回\n",
      "27:3回\n",
      "30:67回\n",
      "32:16回\n",
      "36:65回\n",
      "40:27回\n",
      "45:8回\n",
      "48:32回\n",
      "50:21回\n",
      "54:14回\n",
      "60:70回\n",
      "64:6回\n",
      "72:49回\n",
      "75:11回\n",
      "80:13回\n",
      "90:31回\n",
      "96:9回\n",
      "100:17回\n",
      "108:16回\n",
      "120:27回\n",
      "125:8回\n",
      "144:15回\n",
      "150:9回\n",
      "180:11回\n",
      "216:1回\n",
      "平均値：42.97\n"
     ]
    }
   ],
   "source": [
    "import time\n",
    "import random \n",
    "\n",
    "def Simulation(n = 1000,m = 3):\n",
    "    random.seed(time.time()*1000)\n",
    "    num_times = dict()\n",
    "    sum = 0\n",
    "    for t in range(n):\n",
    "        multipledNum = 1\n",
    "        for i in range(m):\n",
    "            multipledNum *= random.randint(1,6)\n",
    "        sum += multipledNum\n",
    "        if multipledNum not in num_times:\n",
    "            num_times[multipledNum] = 1\n",
    "        else:\n",
    "            num_times[multipledNum] += 1\n",
    "    \n",
    "    print(f\"{n}回試行した実験結果は\")\n",
    "    sorted_num_times = sorted(num_times.items())\n",
    "    for k,v in sorted_num_times:\n",
    "        print(f\"{k}:{v}回\")\n",
    "    \n",
    "    mean = sum / n\n",
    "    print(f\"平均値：{mean}\")\n",
    "\n",
    "Simulation()\n",
    "\n",
    "        \n",
    "\n",
    "    \n",
    "\n",
    "    \n",
    "\n"
   ]
  }
 ],
 "metadata": {
  "file_extension": ".py",
  "kernelspec": {
   "display_name": "Python 3",
   "language": "python",
   "name": "python3"
  },
  "language_info": {
   "codemirror_mode": {
    "name": "ipython",
    "version": 3
   },
   "file_extension": ".py",
   "mimetype": "text/x-python",
   "name": "python",
   "nbconvert_exporter": "python",
   "pygments_lexer": "ipython3",
   "version": "3.1.0"
  },
  "mimetype": "text/x-python",
  "name": "python",
  "npconvert_exporter": "python",
  "pygments_lexer": "ipython3",
  "version": 3
 },
 "nbformat": 4,
 "nbformat_minor": 2
}
